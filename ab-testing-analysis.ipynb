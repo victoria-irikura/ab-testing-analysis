{
 "cells": [
  {
   "cell_type": "markdown",
   "id": "1a18879f",
   "metadata": {},
   "source": [
    "# Projeto: teste de hipóteses e teste A/B"
   ]
  },
  {
   "cell_type": "markdown",
   "id": "c3f07fa4",
   "metadata": {},
   "source": [
    "## Propósito e planejamento da análise\n",
    "Projeto desenvolvido para uma grande loja online em parceria com o departamento de marketing. \n",
    "\n",
    "O objetivo foi aumentar a receita do e-commerce por meio da análise e priorização de hipóteses de otimização, seguida da avaliação de um teste A/B. A partir de uma lista de hipóteses elaboradas junto à equipe de marketing, conduzi uma análise comparativa utilizando os frameworks ICE e RICE para determinar prioridades estratégicas. Em seguida, examinei os dados do teste A/B para embasar decisões sobre a continuidade ou interrupção de intervenções.\n",
    "\n",
    "**Objetivo:** Priorizar hipóteses, aplicar um teste A/B e analisar os resultados para gerar insights acionáveis que impactem a receita da loja."
   ]
  },
  {
   "cell_type": "markdown",
   "id": "9842be2c",
   "metadata": {},
   "source": [
    "## Parte 1: Pré-processamento e preparação dos dados"
   ]
  },
  {
   "cell_type": "code",
   "execution_count": null,
   "id": "66a502cd",
   "metadata": {},
   "outputs": [],
   "source": [
    "# importação das bibliotecas\n",
    "import pandas as pd\n",
    "import matplotlib.pyplot as plt\n",
    "from scipy import stats as st\n",
    "import numpy as np\n"
   ]
  },
  {
   "cell_type": "code",
   "execution_count": 2,
   "id": "2dd8dedd",
   "metadata": {},
   "outputs": [],
   "source": [
    "# leitura dos df\n",
    "hypotheses_us = pd.read_csv('datasets/hypotheses_us.csv',sep=';')\n",
    "orders_us = pd.read_csv('datasets/orders_us.csv')\n",
    "visits_us = pd.read_csv('datasets/visits_us.csv')"
   ]
  },
  {
   "cell_type": "markdown",
   "id": "86a513af",
   "metadata": {},
   "source": [
    "### hypotheses_us\n",
    "Df com nove hipóteses para aumentar a receita, com métricas de Reach, Impact, Confidence e Effort.\n",
    "\n",
    "Colunas:\n",
    "* `Hypotheses` — breves descrições das hipóteses\n",
    "* `Reach` — alcance do usuário, em uma escala de um a dez\n",
    "* `Impact` — impacto nos usuários, em uma escala de um a dez\n",
    "* `Confidence` — confiança na hipótese, em uma escala de um a dez\n",
    "* `Effort` — os recursos necessários para testar uma hipótese, em uma escala de um a dez. Quanto maior o valor de Effort, mais recursos são necessários para o teste."
   ]
  },
  {
   "cell_type": "code",
   "execution_count": 3,
   "id": "17abe72f",
   "metadata": {},
   "outputs": [
    {
     "name": "stdout",
     "output_type": "stream",
     "text": [
      "<class 'pandas.core.frame.DataFrame'>\n",
      "RangeIndex: 9 entries, 0 to 8\n",
      "Data columns (total 5 columns):\n",
      " #   Column      Non-Null Count  Dtype \n",
      "---  ------      --------------  ----- \n",
      " 0   Hypothesis  9 non-null      object\n",
      " 1   Reach       9 non-null      int64 \n",
      " 2   Impact      9 non-null      int64 \n",
      " 3   Confidence  9 non-null      int64 \n",
      " 4   Effort      9 non-null      int64 \n",
      "dtypes: int64(4), object(1)\n",
      "memory usage: 492.0+ bytes\n"
     ]
    }
   ],
   "source": [
    "# impressão das informações do df\n",
    "hypotheses_us.info()"
   ]
  },
  {
   "cell_type": "code",
   "execution_count": 4,
   "id": "6ae5f446",
   "metadata": {},
   "outputs": [
    {
     "data": {
      "text/html": [
       "<div>\n",
       "<style scoped>\n",
       "    .dataframe tbody tr th:only-of-type {\n",
       "        vertical-align: middle;\n",
       "    }\n",
       "\n",
       "    .dataframe tbody tr th {\n",
       "        vertical-align: top;\n",
       "    }\n",
       "\n",
       "    .dataframe thead th {\n",
       "        text-align: right;\n",
       "    }\n",
       "</style>\n",
       "<table border=\"1\" class=\"dataframe\">\n",
       "  <thead>\n",
       "    <tr style=\"text-align: right;\">\n",
       "      <th></th>\n",
       "      <th>Hypothesis</th>\n",
       "      <th>Reach</th>\n",
       "      <th>Impact</th>\n",
       "      <th>Confidence</th>\n",
       "      <th>Effort</th>\n",
       "    </tr>\n",
       "  </thead>\n",
       "  <tbody>\n",
       "    <tr>\n",
       "      <th>0</th>\n",
       "      <td>Add two new channels for attracting traffic. T...</td>\n",
       "      <td>3</td>\n",
       "      <td>10</td>\n",
       "      <td>8</td>\n",
       "      <td>6</td>\n",
       "    </tr>\n",
       "    <tr>\n",
       "      <th>1</th>\n",
       "      <td>Launch your own delivery service. This will sh...</td>\n",
       "      <td>2</td>\n",
       "      <td>5</td>\n",
       "      <td>4</td>\n",
       "      <td>10</td>\n",
       "    </tr>\n",
       "    <tr>\n",
       "      <th>2</th>\n",
       "      <td>Add product recommendation blocks to the store...</td>\n",
       "      <td>8</td>\n",
       "      <td>3</td>\n",
       "      <td>7</td>\n",
       "      <td>3</td>\n",
       "    </tr>\n",
       "    <tr>\n",
       "      <th>3</th>\n",
       "      <td>Change the category structure. This will incre...</td>\n",
       "      <td>8</td>\n",
       "      <td>3</td>\n",
       "      <td>3</td>\n",
       "      <td>8</td>\n",
       "    </tr>\n",
       "    <tr>\n",
       "      <th>4</th>\n",
       "      <td>Change the background color on the main page. ...</td>\n",
       "      <td>3</td>\n",
       "      <td>1</td>\n",
       "      <td>1</td>\n",
       "      <td>1</td>\n",
       "    </tr>\n",
       "    <tr>\n",
       "      <th>5</th>\n",
       "      <td>Add a customer review page. This will increase...</td>\n",
       "      <td>3</td>\n",
       "      <td>2</td>\n",
       "      <td>2</td>\n",
       "      <td>3</td>\n",
       "    </tr>\n",
       "    <tr>\n",
       "      <th>6</th>\n",
       "      <td>Show banners with current offers and sales on ...</td>\n",
       "      <td>5</td>\n",
       "      <td>3</td>\n",
       "      <td>8</td>\n",
       "      <td>3</td>\n",
       "    </tr>\n",
       "    <tr>\n",
       "      <th>7</th>\n",
       "      <td>Add a subscription form to all the main pages....</td>\n",
       "      <td>10</td>\n",
       "      <td>7</td>\n",
       "      <td>8</td>\n",
       "      <td>5</td>\n",
       "    </tr>\n",
       "    <tr>\n",
       "      <th>8</th>\n",
       "      <td>Launch a promotion that gives users discounts ...</td>\n",
       "      <td>1</td>\n",
       "      <td>9</td>\n",
       "      <td>9</td>\n",
       "      <td>5</td>\n",
       "    </tr>\n",
       "  </tbody>\n",
       "</table>\n",
       "</div>"
      ],
      "text/plain": [
       "                                          Hypothesis  Reach  Impact  \\\n",
       "0  Add two new channels for attracting traffic. T...      3      10   \n",
       "1  Launch your own delivery service. This will sh...      2       5   \n",
       "2  Add product recommendation blocks to the store...      8       3   \n",
       "3  Change the category structure. This will incre...      8       3   \n",
       "4  Change the background color on the main page. ...      3       1   \n",
       "5  Add a customer review page. This will increase...      3       2   \n",
       "6  Show banners with current offers and sales on ...      5       3   \n",
       "7  Add a subscription form to all the main pages....     10       7   \n",
       "8  Launch a promotion that gives users discounts ...      1       9   \n",
       "\n",
       "   Confidence  Effort  \n",
       "0           8       6  \n",
       "1           4      10  \n",
       "2           7       3  \n",
       "3           3       8  \n",
       "4           1       1  \n",
       "5           2       3  \n",
       "6           8       3  \n",
       "7           8       5  \n",
       "8           9       5  "
      ]
     },
     "execution_count": 4,
     "metadata": {},
     "output_type": "execute_result"
    }
   ],
   "source": [
    "# impressão do df \n",
    "hypotheses_us"
   ]
  },
  {
   "cell_type": "code",
   "execution_count": 5,
   "id": "ad82b14f",
   "metadata": {},
   "outputs": [
    {
     "data": {
      "text/plain": [
       "np.int64(0)"
      ]
     },
     "execution_count": 5,
     "metadata": {},
     "output_type": "execute_result"
    }
   ],
   "source": [
    "# verifica se há linhas completamente duplicadas\n",
    "hypotheses_us.duplicated().sum()"
   ]
  },
  {
   "cell_type": "markdown",
   "id": "6d571c60",
   "metadata": {},
   "source": [
    "Observações sobre o df:\n",
    "* O df não possui dados ausentes aparentes.\n",
    "* O df não possui linhas completamente duplicadas.\n",
    "* O título das colunas não está padronizado pela estratégia snake_case, pois estão com as iniciais maiúsculas, o que deve ser alterado.\n",
    "* Os tipos de dados de cada coluna estão de acordo com os dados.\n",
    "* Ao abrir o arquivo, observou-se que as 8 primeiras linhas apresentam, na descrição das hipóteses, 2 partes: a sugestão de ação e consequência esperada. A última hipótese, no entanto, apresenta apenas a ação, sem indicar o impacto esperado dessa ação, o que faz ela ser apenas uma ideia. Com isso, esta última linha do df será descartada.\n",
    "* Para facilitar a análise dos dados, é interessante criar uma coluna `hypothesis_no` que identifique as hipóteses de forma numérica."
   ]
  },
  {
   "cell_type": "code",
   "execution_count": 6,
   "id": "6bd9c82a",
   "metadata": {},
   "outputs": [
    {
     "data": {
      "text/html": [
       "<div>\n",
       "<style scoped>\n",
       "    .dataframe tbody tr th:only-of-type {\n",
       "        vertical-align: middle;\n",
       "    }\n",
       "\n",
       "    .dataframe tbody tr th {\n",
       "        vertical-align: top;\n",
       "    }\n",
       "\n",
       "    .dataframe thead th {\n",
       "        text-align: right;\n",
       "    }\n",
       "</style>\n",
       "<table border=\"1\" class=\"dataframe\">\n",
       "  <thead>\n",
       "    <tr style=\"text-align: right;\">\n",
       "      <th></th>\n",
       "      <th>Hypothesis</th>\n",
       "      <th>Reach</th>\n",
       "      <th>Impact</th>\n",
       "      <th>Confidence</th>\n",
       "      <th>Effort</th>\n",
       "    </tr>\n",
       "  </thead>\n",
       "  <tbody>\n",
       "    <tr>\n",
       "      <th>0</th>\n",
       "      <td>Add two new channels for attracting traffic. T...</td>\n",
       "      <td>3</td>\n",
       "      <td>10</td>\n",
       "      <td>8</td>\n",
       "      <td>6</td>\n",
       "    </tr>\n",
       "    <tr>\n",
       "      <th>1</th>\n",
       "      <td>Launch your own delivery service. This will sh...</td>\n",
       "      <td>2</td>\n",
       "      <td>5</td>\n",
       "      <td>4</td>\n",
       "      <td>10</td>\n",
       "    </tr>\n",
       "    <tr>\n",
       "      <th>2</th>\n",
       "      <td>Add product recommendation blocks to the store...</td>\n",
       "      <td>8</td>\n",
       "      <td>3</td>\n",
       "      <td>7</td>\n",
       "      <td>3</td>\n",
       "    </tr>\n",
       "    <tr>\n",
       "      <th>3</th>\n",
       "      <td>Change the category structure. This will incre...</td>\n",
       "      <td>8</td>\n",
       "      <td>3</td>\n",
       "      <td>3</td>\n",
       "      <td>8</td>\n",
       "    </tr>\n",
       "    <tr>\n",
       "      <th>4</th>\n",
       "      <td>Change the background color on the main page. ...</td>\n",
       "      <td>3</td>\n",
       "      <td>1</td>\n",
       "      <td>1</td>\n",
       "      <td>1</td>\n",
       "    </tr>\n",
       "    <tr>\n",
       "      <th>5</th>\n",
       "      <td>Add a customer review page. This will increase...</td>\n",
       "      <td>3</td>\n",
       "      <td>2</td>\n",
       "      <td>2</td>\n",
       "      <td>3</td>\n",
       "    </tr>\n",
       "    <tr>\n",
       "      <th>6</th>\n",
       "      <td>Show banners with current offers and sales on ...</td>\n",
       "      <td>5</td>\n",
       "      <td>3</td>\n",
       "      <td>8</td>\n",
       "      <td>3</td>\n",
       "    </tr>\n",
       "    <tr>\n",
       "      <th>7</th>\n",
       "      <td>Add a subscription form to all the main pages....</td>\n",
       "      <td>10</td>\n",
       "      <td>7</td>\n",
       "      <td>8</td>\n",
       "      <td>5</td>\n",
       "    </tr>\n",
       "  </tbody>\n",
       "</table>\n",
       "</div>"
      ],
      "text/plain": [
       "                                          Hypothesis  Reach  Impact  \\\n",
       "0  Add two new channels for attracting traffic. T...      3      10   \n",
       "1  Launch your own delivery service. This will sh...      2       5   \n",
       "2  Add product recommendation blocks to the store...      8       3   \n",
       "3  Change the category structure. This will incre...      8       3   \n",
       "4  Change the background color on the main page. ...      3       1   \n",
       "5  Add a customer review page. This will increase...      3       2   \n",
       "6  Show banners with current offers and sales on ...      5       3   \n",
       "7  Add a subscription form to all the main pages....     10       7   \n",
       "\n",
       "   Confidence  Effort  \n",
       "0           8       6  \n",
       "1           4      10  \n",
       "2           7       3  \n",
       "3           3       8  \n",
       "4           1       1  \n",
       "5           2       3  \n",
       "6           8       3  \n",
       "7           8       5  "
      ]
     },
     "execution_count": 6,
     "metadata": {},
     "output_type": "execute_result"
    }
   ],
   "source": [
    "# remove a última linha do df\n",
    "hypotheses_us = hypotheses_us.drop(hypotheses_us.index[-1])\n",
    "hypotheses_us"
   ]
  },
  {
   "cell_type": "code",
   "execution_count": 7,
   "id": "7fa030a2",
   "metadata": {},
   "outputs": [],
   "source": [
    "# padroniza o título das colunas\n",
    "hypotheses_us.columns = hypotheses_us.columns.str.lower()\n"
   ]
  },
  {
   "cell_type": "code",
   "execution_count": 8,
   "id": "a8152314",
   "metadata": {},
   "outputs": [
    {
     "data": {
      "text/html": [
       "<div>\n",
       "<style scoped>\n",
       "    .dataframe tbody tr th:only-of-type {\n",
       "        vertical-align: middle;\n",
       "    }\n",
       "\n",
       "    .dataframe tbody tr th {\n",
       "        vertical-align: top;\n",
       "    }\n",
       "\n",
       "    .dataframe thead th {\n",
       "        text-align: right;\n",
       "    }\n",
       "</style>\n",
       "<table border=\"1\" class=\"dataframe\">\n",
       "  <thead>\n",
       "    <tr style=\"text-align: right;\">\n",
       "      <th></th>\n",
       "      <th>hypothesis_no</th>\n",
       "      <th>hypothesis</th>\n",
       "      <th>reach</th>\n",
       "      <th>impact</th>\n",
       "      <th>confidence</th>\n",
       "      <th>effort</th>\n",
       "    </tr>\n",
       "  </thead>\n",
       "  <tbody>\n",
       "    <tr>\n",
       "      <th>0</th>\n",
       "      <td>hypothesis_0</td>\n",
       "      <td>Add two new channels for attracting traffic. T...</td>\n",
       "      <td>3</td>\n",
       "      <td>10</td>\n",
       "      <td>8</td>\n",
       "      <td>6</td>\n",
       "    </tr>\n",
       "    <tr>\n",
       "      <th>1</th>\n",
       "      <td>hypothesis_1</td>\n",
       "      <td>Launch your own delivery service. This will sh...</td>\n",
       "      <td>2</td>\n",
       "      <td>5</td>\n",
       "      <td>4</td>\n",
       "      <td>10</td>\n",
       "    </tr>\n",
       "    <tr>\n",
       "      <th>2</th>\n",
       "      <td>hypothesis_2</td>\n",
       "      <td>Add product recommendation blocks to the store...</td>\n",
       "      <td>8</td>\n",
       "      <td>3</td>\n",
       "      <td>7</td>\n",
       "      <td>3</td>\n",
       "    </tr>\n",
       "    <tr>\n",
       "      <th>3</th>\n",
       "      <td>hypothesis_3</td>\n",
       "      <td>Change the category structure. This will incre...</td>\n",
       "      <td>8</td>\n",
       "      <td>3</td>\n",
       "      <td>3</td>\n",
       "      <td>8</td>\n",
       "    </tr>\n",
       "    <tr>\n",
       "      <th>4</th>\n",
       "      <td>hypothesis_4</td>\n",
       "      <td>Change the background color on the main page. ...</td>\n",
       "      <td>3</td>\n",
       "      <td>1</td>\n",
       "      <td>1</td>\n",
       "      <td>1</td>\n",
       "    </tr>\n",
       "    <tr>\n",
       "      <th>5</th>\n",
       "      <td>hypothesis_5</td>\n",
       "      <td>Add a customer review page. This will increase...</td>\n",
       "      <td>3</td>\n",
       "      <td>2</td>\n",
       "      <td>2</td>\n",
       "      <td>3</td>\n",
       "    </tr>\n",
       "    <tr>\n",
       "      <th>6</th>\n",
       "      <td>hypothesis_6</td>\n",
       "      <td>Show banners with current offers and sales on ...</td>\n",
       "      <td>5</td>\n",
       "      <td>3</td>\n",
       "      <td>8</td>\n",
       "      <td>3</td>\n",
       "    </tr>\n",
       "    <tr>\n",
       "      <th>7</th>\n",
       "      <td>hypothesis_7</td>\n",
       "      <td>Add a subscription form to all the main pages....</td>\n",
       "      <td>10</td>\n",
       "      <td>7</td>\n",
       "      <td>8</td>\n",
       "      <td>5</td>\n",
       "    </tr>\n",
       "  </tbody>\n",
       "</table>\n",
       "</div>"
      ],
      "text/plain": [
       "  hypothesis_no                                         hypothesis  reach  \\\n",
       "0  hypothesis_0  Add two new channels for attracting traffic. T...      3   \n",
       "1  hypothesis_1  Launch your own delivery service. This will sh...      2   \n",
       "2  hypothesis_2  Add product recommendation blocks to the store...      8   \n",
       "3  hypothesis_3  Change the category structure. This will incre...      8   \n",
       "4  hypothesis_4  Change the background color on the main page. ...      3   \n",
       "5  hypothesis_5  Add a customer review page. This will increase...      3   \n",
       "6  hypothesis_6  Show banners with current offers and sales on ...      5   \n",
       "7  hypothesis_7  Add a subscription form to all the main pages....     10   \n",
       "\n",
       "   impact  confidence  effort  \n",
       "0      10           8       6  \n",
       "1       5           4      10  \n",
       "2       3           7       3  \n",
       "3       3           3       8  \n",
       "4       1           1       1  \n",
       "5       2           2       3  \n",
       "6       3           8       3  \n",
       "7       7           8       5  "
      ]
     },
     "execution_count": 8,
     "metadata": {},
     "output_type": "execute_result"
    }
   ],
   "source": [
    "# criação da coluna 'hypothesis_no' para identificação das hipóteses por número\n",
    "hypotheses_us.insert(0, 'hypothesis_no', 'hypothesis_' + hypotheses_us.index.astype(str))\n",
    "\n",
    "hypotheses_us\n"
   ]
  },
  {
   "cell_type": "code",
   "execution_count": 9,
   "id": "4e87a147",
   "metadata": {},
   "outputs": [
    {
     "name": "stdout",
     "output_type": "stream",
     "text": [
      "<class 'pandas.core.frame.DataFrame'>\n",
      "RangeIndex: 8 entries, 0 to 7\n",
      "Data columns (total 6 columns):\n",
      " #   Column         Non-Null Count  Dtype \n",
      "---  ------         --------------  ----- \n",
      " 0   hypothesis_no  8 non-null      object\n",
      " 1   hypothesis     8 non-null      object\n",
      " 2   reach          8 non-null      int64 \n",
      " 3   impact         8 non-null      int64 \n",
      " 4   confidence     8 non-null      int64 \n",
      " 5   effort         8 non-null      int64 \n",
      "dtypes: int64(4), object(2)\n",
      "memory usage: 516.0+ bytes\n"
     ]
    }
   ],
   "source": [
    "# impressão das informações do df para verificar as alterações\n",
    "hypotheses_us.info()"
   ]
  },
  {
   "cell_type": "markdown",
   "id": "729c466b",
   "metadata": {},
   "source": [
    "### orders_us\n",
    "Df com dados de compras realizadas pelos clientes da loja.\n",
    "\n",
    "Colunas:\n",
    "* `transactionId` — identificador do pedido\n",
    "* `visitorId` — identificador do usuário que fez o pedido\n",
    "* `date` — data do pedido\n",
    "* `revenue` — valor do pedido\n",
    "* `group` — o grupo de teste A/B ao qual o usuário pertence"
   ]
  },
  {
   "cell_type": "code",
   "execution_count": 10,
   "id": "736b19a6",
   "metadata": {},
   "outputs": [
    {
     "name": "stdout",
     "output_type": "stream",
     "text": [
      "<class 'pandas.core.frame.DataFrame'>\n",
      "RangeIndex: 1197 entries, 0 to 1196\n",
      "Data columns (total 5 columns):\n",
      " #   Column         Non-Null Count  Dtype  \n",
      "---  ------         --------------  -----  \n",
      " 0   transactionId  1197 non-null   int64  \n",
      " 1   visitorId      1197 non-null   int64  \n",
      " 2   date           1197 non-null   object \n",
      " 3   revenue        1197 non-null   float64\n",
      " 4   group          1197 non-null   object \n",
      "dtypes: float64(1), int64(2), object(2)\n",
      "memory usage: 46.9+ KB\n"
     ]
    }
   ],
   "source": [
    "# impressão das informações do df\n",
    "orders_us.info()"
   ]
  },
  {
   "cell_type": "code",
   "execution_count": 11,
   "id": "a6cc552e",
   "metadata": {},
   "outputs": [
    {
     "data": {
      "text/html": [
       "<div>\n",
       "<style scoped>\n",
       "    .dataframe tbody tr th:only-of-type {\n",
       "        vertical-align: middle;\n",
       "    }\n",
       "\n",
       "    .dataframe tbody tr th {\n",
       "        vertical-align: top;\n",
       "    }\n",
       "\n",
       "    .dataframe thead th {\n",
       "        text-align: right;\n",
       "    }\n",
       "</style>\n",
       "<table border=\"1\" class=\"dataframe\">\n",
       "  <thead>\n",
       "    <tr style=\"text-align: right;\">\n",
       "      <th></th>\n",
       "      <th>transactionId</th>\n",
       "      <th>visitorId</th>\n",
       "      <th>date</th>\n",
       "      <th>revenue</th>\n",
       "      <th>group</th>\n",
       "    </tr>\n",
       "  </thead>\n",
       "  <tbody>\n",
       "    <tr>\n",
       "      <th>0</th>\n",
       "      <td>3667963787</td>\n",
       "      <td>3312258926</td>\n",
       "      <td>2019-08-15</td>\n",
       "      <td>30.4</td>\n",
       "      <td>B</td>\n",
       "    </tr>\n",
       "    <tr>\n",
       "      <th>1</th>\n",
       "      <td>2804400009</td>\n",
       "      <td>3642806036</td>\n",
       "      <td>2019-08-15</td>\n",
       "      <td>15.2</td>\n",
       "      <td>B</td>\n",
       "    </tr>\n",
       "    <tr>\n",
       "      <th>2</th>\n",
       "      <td>2961555356</td>\n",
       "      <td>4069496402</td>\n",
       "      <td>2019-08-15</td>\n",
       "      <td>10.2</td>\n",
       "      <td>A</td>\n",
       "    </tr>\n",
       "    <tr>\n",
       "      <th>3</th>\n",
       "      <td>3797467345</td>\n",
       "      <td>1196621759</td>\n",
       "      <td>2019-08-15</td>\n",
       "      <td>155.1</td>\n",
       "      <td>B</td>\n",
       "    </tr>\n",
       "    <tr>\n",
       "      <th>4</th>\n",
       "      <td>2282983706</td>\n",
       "      <td>2322279887</td>\n",
       "      <td>2019-08-15</td>\n",
       "      <td>40.5</td>\n",
       "      <td>B</td>\n",
       "    </tr>\n",
       "  </tbody>\n",
       "</table>\n",
       "</div>"
      ],
      "text/plain": [
       "   transactionId   visitorId        date  revenue group\n",
       "0     3667963787  3312258926  2019-08-15     30.4     B\n",
       "1     2804400009  3642806036  2019-08-15     15.2     B\n",
       "2     2961555356  4069496402  2019-08-15     10.2     A\n",
       "3     3797467345  1196621759  2019-08-15    155.1     B\n",
       "4     2282983706  2322279887  2019-08-15     40.5     B"
      ]
     },
     "execution_count": 11,
     "metadata": {},
     "output_type": "execute_result"
    }
   ],
   "source": [
    "# impressão amostras do df\n",
    "orders_us.head()"
   ]
  },
  {
   "cell_type": "code",
   "execution_count": 12,
   "id": "ef2a6290",
   "metadata": {},
   "outputs": [
    {
     "data": {
      "text/plain": [
       "np.int64(0)"
      ]
     },
     "execution_count": 12,
     "metadata": {},
     "output_type": "execute_result"
    }
   ],
   "source": [
    "# verifica se há linhas completamente duplicadas\n",
    "orders_us.duplicated().sum()"
   ]
  },
  {
   "cell_type": "markdown",
   "id": "9822fa87",
   "metadata": {},
   "source": [
    "Observações sobre o df:\n",
    "* O df não possui dados ausentes aparentes.\n",
    "* O df não possui linhas completamente duplicadas.\n",
    "* O título das colunas não está padronizado pela estratégia snake_case, pois as duas primeiras colunas apresentam uma letra maiúscula em 'Id', o que deve ser alterado. Para facilitar a leitura, o final 'id' será separado do restante do nome por _\n",
    "* Os dados da coluna `date` devem ser convertidos para o tipo datetime."
   ]
  },
  {
   "cell_type": "code",
   "execution_count": 13,
   "id": "1319dcd2",
   "metadata": {},
   "outputs": [
    {
     "data": {
      "text/html": [
       "<div>\n",
       "<style scoped>\n",
       "    .dataframe tbody tr th:only-of-type {\n",
       "        vertical-align: middle;\n",
       "    }\n",
       "\n",
       "    .dataframe tbody tr th {\n",
       "        vertical-align: top;\n",
       "    }\n",
       "\n",
       "    .dataframe thead th {\n",
       "        text-align: right;\n",
       "    }\n",
       "</style>\n",
       "<table border=\"1\" class=\"dataframe\">\n",
       "  <thead>\n",
       "    <tr style=\"text-align: right;\">\n",
       "      <th></th>\n",
       "      <th>transaction_id</th>\n",
       "      <th>visitor_id</th>\n",
       "      <th>date</th>\n",
       "      <th>revenue</th>\n",
       "      <th>group</th>\n",
       "    </tr>\n",
       "  </thead>\n",
       "  <tbody>\n",
       "    <tr>\n",
       "      <th>0</th>\n",
       "      <td>3667963787</td>\n",
       "      <td>3312258926</td>\n",
       "      <td>2019-08-15</td>\n",
       "      <td>30.4</td>\n",
       "      <td>B</td>\n",
       "    </tr>\n",
       "    <tr>\n",
       "      <th>1</th>\n",
       "      <td>2804400009</td>\n",
       "      <td>3642806036</td>\n",
       "      <td>2019-08-15</td>\n",
       "      <td>15.2</td>\n",
       "      <td>B</td>\n",
       "    </tr>\n",
       "    <tr>\n",
       "      <th>2</th>\n",
       "      <td>2961555356</td>\n",
       "      <td>4069496402</td>\n",
       "      <td>2019-08-15</td>\n",
       "      <td>10.2</td>\n",
       "      <td>A</td>\n",
       "    </tr>\n",
       "    <tr>\n",
       "      <th>3</th>\n",
       "      <td>3797467345</td>\n",
       "      <td>1196621759</td>\n",
       "      <td>2019-08-15</td>\n",
       "      <td>155.1</td>\n",
       "      <td>B</td>\n",
       "    </tr>\n",
       "    <tr>\n",
       "      <th>4</th>\n",
       "      <td>2282983706</td>\n",
       "      <td>2322279887</td>\n",
       "      <td>2019-08-15</td>\n",
       "      <td>40.5</td>\n",
       "      <td>B</td>\n",
       "    </tr>\n",
       "  </tbody>\n",
       "</table>\n",
       "</div>"
      ],
      "text/plain": [
       "   transaction_id  visitor_id        date  revenue group\n",
       "0      3667963787  3312258926  2019-08-15     30.4     B\n",
       "1      2804400009  3642806036  2019-08-15     15.2     B\n",
       "2      2961555356  4069496402  2019-08-15     10.2     A\n",
       "3      3797467345  1196621759  2019-08-15    155.1     B\n",
       "4      2282983706  2322279887  2019-08-15     40.5     B"
      ]
     },
     "execution_count": 13,
     "metadata": {},
     "output_type": "execute_result"
    }
   ],
   "source": [
    "# alteração do título das colunas\n",
    "orders_us.columns=['transaction_id', 'visitor_id', 'date', 'revenue', 'group']\n",
    "orders_us.head()"
   ]
  },
  {
   "cell_type": "code",
   "execution_count": 14,
   "id": "080b45b0",
   "metadata": {},
   "outputs": [],
   "source": [
    "# conversão dos dados da coluna 'date'\n",
    "orders_us['date'] = pd.to_datetime(orders_us['date'])"
   ]
  },
  {
   "cell_type": "code",
   "execution_count": 15,
   "id": "81eae9bc",
   "metadata": {},
   "outputs": [
    {
     "name": "stdout",
     "output_type": "stream",
     "text": [
      "<class 'pandas.core.frame.DataFrame'>\n",
      "RangeIndex: 1197 entries, 0 to 1196\n",
      "Data columns (total 5 columns):\n",
      " #   Column          Non-Null Count  Dtype         \n",
      "---  ------          --------------  -----         \n",
      " 0   transaction_id  1197 non-null   int64         \n",
      " 1   visitor_id      1197 non-null   int64         \n",
      " 2   date            1197 non-null   datetime64[ns]\n",
      " 3   revenue         1197 non-null   float64       \n",
      " 4   group           1197 non-null   object        \n",
      "dtypes: datetime64[ns](1), float64(1), int64(2), object(1)\n",
      "memory usage: 46.9+ KB\n"
     ]
    }
   ],
   "source": [
    "# impressão das informações do df para verificar as alterações\n",
    "orders_us.info()"
   ]
  },
  {
   "cell_type": "markdown",
   "id": "a26d6340",
   "metadata": {},
   "source": [
    "### visits_us\n",
    "Df com resultados de um experimento A/B conduzido na plataforma da loja.\n",
    "\n",
    "Colunas:\n",
    "* `date` — data\n",
    "* `group` — grupo de teste A/B\n",
    "* `visits` — o número de visitas na data especificada para o grupo de teste A/B especificado"
   ]
  },
  {
   "cell_type": "code",
   "execution_count": 16,
   "id": "d740d458",
   "metadata": {},
   "outputs": [
    {
     "name": "stdout",
     "output_type": "stream",
     "text": [
      "<class 'pandas.core.frame.DataFrame'>\n",
      "RangeIndex: 62 entries, 0 to 61\n",
      "Data columns (total 3 columns):\n",
      " #   Column  Non-Null Count  Dtype \n",
      "---  ------  --------------  ----- \n",
      " 0   date    62 non-null     object\n",
      " 1   group   62 non-null     object\n",
      " 2   visits  62 non-null     int64 \n",
      "dtypes: int64(1), object(2)\n",
      "memory usage: 1.6+ KB\n"
     ]
    }
   ],
   "source": [
    "# impressão das informações do df\n",
    "visits_us.info()"
   ]
  },
  {
   "cell_type": "code",
   "execution_count": 17,
   "id": "020fdff0",
   "metadata": {},
   "outputs": [
    {
     "data": {
      "text/html": [
       "<div>\n",
       "<style scoped>\n",
       "    .dataframe tbody tr th:only-of-type {\n",
       "        vertical-align: middle;\n",
       "    }\n",
       "\n",
       "    .dataframe tbody tr th {\n",
       "        vertical-align: top;\n",
       "    }\n",
       "\n",
       "    .dataframe thead th {\n",
       "        text-align: right;\n",
       "    }\n",
       "</style>\n",
       "<table border=\"1\" class=\"dataframe\">\n",
       "  <thead>\n",
       "    <tr style=\"text-align: right;\">\n",
       "      <th></th>\n",
       "      <th>date</th>\n",
       "      <th>group</th>\n",
       "      <th>visits</th>\n",
       "    </tr>\n",
       "  </thead>\n",
       "  <tbody>\n",
       "    <tr>\n",
       "      <th>0</th>\n",
       "      <td>2019-08-01</td>\n",
       "      <td>A</td>\n",
       "      <td>719</td>\n",
       "    </tr>\n",
       "    <tr>\n",
       "      <th>1</th>\n",
       "      <td>2019-08-02</td>\n",
       "      <td>A</td>\n",
       "      <td>619</td>\n",
       "    </tr>\n",
       "    <tr>\n",
       "      <th>2</th>\n",
       "      <td>2019-08-03</td>\n",
       "      <td>A</td>\n",
       "      <td>507</td>\n",
       "    </tr>\n",
       "    <tr>\n",
       "      <th>3</th>\n",
       "      <td>2019-08-04</td>\n",
       "      <td>A</td>\n",
       "      <td>717</td>\n",
       "    </tr>\n",
       "    <tr>\n",
       "      <th>4</th>\n",
       "      <td>2019-08-05</td>\n",
       "      <td>A</td>\n",
       "      <td>756</td>\n",
       "    </tr>\n",
       "  </tbody>\n",
       "</table>\n",
       "</div>"
      ],
      "text/plain": [
       "         date group  visits\n",
       "0  2019-08-01     A     719\n",
       "1  2019-08-02     A     619\n",
       "2  2019-08-03     A     507\n",
       "3  2019-08-04     A     717\n",
       "4  2019-08-05     A     756"
      ]
     },
     "execution_count": 17,
     "metadata": {},
     "output_type": "execute_result"
    }
   ],
   "source": [
    "# impressão amostras do df\n",
    "visits_us.head()"
   ]
  },
  {
   "cell_type": "code",
   "execution_count": 18,
   "id": "4e069fe4",
   "metadata": {},
   "outputs": [
    {
     "data": {
      "text/plain": [
       "np.int64(0)"
      ]
     },
     "execution_count": 18,
     "metadata": {},
     "output_type": "execute_result"
    }
   ],
   "source": [
    "# verifica se há linhas completamente duplicadas\n",
    "visits_us.duplicated().sum()"
   ]
  },
  {
   "cell_type": "code",
   "execution_count": 19,
   "id": "4d97ada8",
   "metadata": {},
   "outputs": [
    {
     "data": {
      "text/plain": [
       "group\n",
       "A    31\n",
       "B    31\n",
       "Name: count, dtype: int64"
      ]
     },
     "execution_count": 19,
     "metadata": {},
     "output_type": "execute_result"
    }
   ],
   "source": [
    "# verifica e conta os valores da coluna 'group'\n",
    "visits_us['group'].value_counts()"
   ]
  },
  {
   "cell_type": "markdown",
   "id": "077a276e",
   "metadata": {},
   "source": [
    "Observações sobre o df:\n",
    "* O df não possui dados ausentes aparentes.\n",
    "* O df não possui linhas completamente duplicadas.\n",
    "* O título das colunas está padronizado e não precisa de ajustes.\n",
    "* Os dados da coluna `date` devem ser convertidos para o tipo datetime."
   ]
  },
  {
   "cell_type": "code",
   "execution_count": 20,
   "id": "7401f142",
   "metadata": {},
   "outputs": [],
   "source": [
    "# conversão dos dados da coluna 'date'\n",
    "visits_us['date'] = pd.to_datetime(visits_us['date'])"
   ]
  },
  {
   "cell_type": "code",
   "execution_count": 21,
   "id": "78538e1b",
   "metadata": {},
   "outputs": [
    {
     "name": "stdout",
     "output_type": "stream",
     "text": [
      "<class 'pandas.core.frame.DataFrame'>\n",
      "RangeIndex: 62 entries, 0 to 61\n",
      "Data columns (total 3 columns):\n",
      " #   Column  Non-Null Count  Dtype         \n",
      "---  ------  --------------  -----         \n",
      " 0   date    62 non-null     datetime64[ns]\n",
      " 1   group   62 non-null     object        \n",
      " 2   visits  62 non-null     int64         \n",
      "dtypes: datetime64[ns](1), int64(1), object(1)\n",
      "memory usage: 1.6+ KB\n"
     ]
    }
   ],
   "source": [
    "# impressão das informações do df para verificar as alterações\n",
    "visits_us.info()"
   ]
  },
  {
   "cell_type": "markdown",
   "id": "f854388c",
   "metadata": {},
   "source": [
    "## Parte 2: Priorização de Hipóteses"
   ]
  },
  {
   "cell_type": "markdown",
   "id": "63f71c58",
   "metadata": {},
   "source": [
    "Aplicação dos frameworks ICE e RICE para avaliar e ranquear as hipóteses e comparar os resultados dos dois métodos."
   ]
  },
  {
   "cell_type": "code",
   "execution_count": 22,
   "id": "265ce3b4",
   "metadata": {},
   "outputs": [
    {
     "data": {
      "text/html": [
       "<div>\n",
       "<style scoped>\n",
       "    .dataframe tbody tr th:only-of-type {\n",
       "        vertical-align: middle;\n",
       "    }\n",
       "\n",
       "    .dataframe tbody tr th {\n",
       "        vertical-align: top;\n",
       "    }\n",
       "\n",
       "    .dataframe thead th {\n",
       "        text-align: right;\n",
       "    }\n",
       "</style>\n",
       "<table border=\"1\" class=\"dataframe\">\n",
       "  <thead>\n",
       "    <tr style=\"text-align: right;\">\n",
       "      <th></th>\n",
       "      <th>hypothesis_no</th>\n",
       "      <th>hypothesis</th>\n",
       "      <th>reach</th>\n",
       "      <th>impact</th>\n",
       "      <th>confidence</th>\n",
       "      <th>effort</th>\n",
       "    </tr>\n",
       "  </thead>\n",
       "  <tbody>\n",
       "    <tr>\n",
       "      <th>0</th>\n",
       "      <td>hypothesis_0</td>\n",
       "      <td>Add two new channels for attracting traffic. T...</td>\n",
       "      <td>3</td>\n",
       "      <td>10</td>\n",
       "      <td>8</td>\n",
       "      <td>6</td>\n",
       "    </tr>\n",
       "    <tr>\n",
       "      <th>1</th>\n",
       "      <td>hypothesis_1</td>\n",
       "      <td>Launch your own delivery service. This will sh...</td>\n",
       "      <td>2</td>\n",
       "      <td>5</td>\n",
       "      <td>4</td>\n",
       "      <td>10</td>\n",
       "    </tr>\n",
       "    <tr>\n",
       "      <th>2</th>\n",
       "      <td>hypothesis_2</td>\n",
       "      <td>Add product recommendation blocks to the store...</td>\n",
       "      <td>8</td>\n",
       "      <td>3</td>\n",
       "      <td>7</td>\n",
       "      <td>3</td>\n",
       "    </tr>\n",
       "    <tr>\n",
       "      <th>3</th>\n",
       "      <td>hypothesis_3</td>\n",
       "      <td>Change the category structure. This will incre...</td>\n",
       "      <td>8</td>\n",
       "      <td>3</td>\n",
       "      <td>3</td>\n",
       "      <td>8</td>\n",
       "    </tr>\n",
       "    <tr>\n",
       "      <th>4</th>\n",
       "      <td>hypothesis_4</td>\n",
       "      <td>Change the background color on the main page. ...</td>\n",
       "      <td>3</td>\n",
       "      <td>1</td>\n",
       "      <td>1</td>\n",
       "      <td>1</td>\n",
       "    </tr>\n",
       "    <tr>\n",
       "      <th>5</th>\n",
       "      <td>hypothesis_5</td>\n",
       "      <td>Add a customer review page. This will increase...</td>\n",
       "      <td>3</td>\n",
       "      <td>2</td>\n",
       "      <td>2</td>\n",
       "      <td>3</td>\n",
       "    </tr>\n",
       "    <tr>\n",
       "      <th>6</th>\n",
       "      <td>hypothesis_6</td>\n",
       "      <td>Show banners with current offers and sales on ...</td>\n",
       "      <td>5</td>\n",
       "      <td>3</td>\n",
       "      <td>8</td>\n",
       "      <td>3</td>\n",
       "    </tr>\n",
       "    <tr>\n",
       "      <th>7</th>\n",
       "      <td>hypothesis_7</td>\n",
       "      <td>Add a subscription form to all the main pages....</td>\n",
       "      <td>10</td>\n",
       "      <td>7</td>\n",
       "      <td>8</td>\n",
       "      <td>5</td>\n",
       "    </tr>\n",
       "  </tbody>\n",
       "</table>\n",
       "</div>"
      ],
      "text/plain": [
       "  hypothesis_no                                         hypothesis  reach  \\\n",
       "0  hypothesis_0  Add two new channels for attracting traffic. T...      3   \n",
       "1  hypothesis_1  Launch your own delivery service. This will sh...      2   \n",
       "2  hypothesis_2  Add product recommendation blocks to the store...      8   \n",
       "3  hypothesis_3  Change the category structure. This will incre...      8   \n",
       "4  hypothesis_4  Change the background color on the main page. ...      3   \n",
       "5  hypothesis_5  Add a customer review page. This will increase...      3   \n",
       "6  hypothesis_6  Show banners with current offers and sales on ...      5   \n",
       "7  hypothesis_7  Add a subscription form to all the main pages....     10   \n",
       "\n",
       "   impact  confidence  effort  \n",
       "0      10           8       6  \n",
       "1       5           4      10  \n",
       "2       3           7       3  \n",
       "3       3           3       8  \n",
       "4       1           1       1  \n",
       "5       2           2       3  \n",
       "6       3           8       3  \n",
       "7       7           8       5  "
      ]
     },
     "execution_count": 22,
     "metadata": {},
     "output_type": "execute_result"
    }
   ],
   "source": [
    "hypotheses_us"
   ]
  },
  {
   "cell_type": "code",
   "execution_count": 23,
   "id": "281bb48c",
   "metadata": {},
   "outputs": [
    {
     "data": {
      "text/html": [
       "<div>\n",
       "<style scoped>\n",
       "    .dataframe tbody tr th:only-of-type {\n",
       "        vertical-align: middle;\n",
       "    }\n",
       "\n",
       "    .dataframe tbody tr th {\n",
       "        vertical-align: top;\n",
       "    }\n",
       "\n",
       "    .dataframe thead th {\n",
       "        text-align: right;\n",
       "    }\n",
       "</style>\n",
       "<table border=\"1\" class=\"dataframe\">\n",
       "  <thead>\n",
       "    <tr style=\"text-align: right;\">\n",
       "      <th></th>\n",
       "      <th>hypothesis_no</th>\n",
       "      <th>ICE</th>\n",
       "    </tr>\n",
       "  </thead>\n",
       "  <tbody>\n",
       "    <tr>\n",
       "      <th>0</th>\n",
       "      <td>hypothesis_0</td>\n",
       "      <td>13.333333</td>\n",
       "    </tr>\n",
       "    <tr>\n",
       "      <th>7</th>\n",
       "      <td>hypothesis_7</td>\n",
       "      <td>11.200000</td>\n",
       "    </tr>\n",
       "    <tr>\n",
       "      <th>6</th>\n",
       "      <td>hypothesis_6</td>\n",
       "      <td>8.000000</td>\n",
       "    </tr>\n",
       "    <tr>\n",
       "      <th>2</th>\n",
       "      <td>hypothesis_2</td>\n",
       "      <td>7.000000</td>\n",
       "    </tr>\n",
       "    <tr>\n",
       "      <th>1</th>\n",
       "      <td>hypothesis_1</td>\n",
       "      <td>2.000000</td>\n",
       "    </tr>\n",
       "    <tr>\n",
       "      <th>5</th>\n",
       "      <td>hypothesis_5</td>\n",
       "      <td>1.333333</td>\n",
       "    </tr>\n",
       "    <tr>\n",
       "      <th>3</th>\n",
       "      <td>hypothesis_3</td>\n",
       "      <td>1.125000</td>\n",
       "    </tr>\n",
       "    <tr>\n",
       "      <th>4</th>\n",
       "      <td>hypothesis_4</td>\n",
       "      <td>1.000000</td>\n",
       "    </tr>\n",
       "  </tbody>\n",
       "</table>\n",
       "</div>"
      ],
      "text/plain": [
       "  hypothesis_no        ICE\n",
       "0  hypothesis_0  13.333333\n",
       "7  hypothesis_7  11.200000\n",
       "6  hypothesis_6   8.000000\n",
       "2  hypothesis_2   7.000000\n",
       "1  hypothesis_1   2.000000\n",
       "5  hypothesis_5   1.333333\n",
       "3  hypothesis_3   1.125000\n",
       "4  hypothesis_4   1.000000"
      ]
     },
     "execution_count": 23,
     "metadata": {},
     "output_type": "execute_result"
    }
   ],
   "source": [
    "# calcula ICE para as hipóteses e as classifica em ordem decrescente de prioridade\n",
    "hypotheses_us['ICE'] = (hypotheses_us['impact'] * hypotheses_us['confidence']) / hypotheses_us['effort']\n",
    "\n",
    "hypotheses_us[['hypothesis_no', 'ICE']].sort_values(by='ICE', ascending=False)"
   ]
  },
  {
   "cell_type": "markdown",
   "id": "58b1c474",
   "metadata": {},
   "source": [
    "As hipóteses mais promissoras são as 0, 2, 6 e 7."
   ]
  },
  {
   "cell_type": "code",
   "execution_count": 24,
   "id": "11499f63",
   "metadata": {},
   "outputs": [
    {
     "data": {
      "text/html": [
       "<div>\n",
       "<style scoped>\n",
       "    .dataframe tbody tr th:only-of-type {\n",
       "        vertical-align: middle;\n",
       "    }\n",
       "\n",
       "    .dataframe tbody tr th {\n",
       "        vertical-align: top;\n",
       "    }\n",
       "\n",
       "    .dataframe thead th {\n",
       "        text-align: right;\n",
       "    }\n",
       "</style>\n",
       "<table border=\"1\" class=\"dataframe\">\n",
       "  <thead>\n",
       "    <tr style=\"text-align: right;\">\n",
       "      <th></th>\n",
       "      <th>hypothesis_no</th>\n",
       "      <th>RICE</th>\n",
       "    </tr>\n",
       "  </thead>\n",
       "  <tbody>\n",
       "    <tr>\n",
       "      <th>7</th>\n",
       "      <td>hypothesis_7</td>\n",
       "      <td>112.0</td>\n",
       "    </tr>\n",
       "    <tr>\n",
       "      <th>2</th>\n",
       "      <td>hypothesis_2</td>\n",
       "      <td>56.0</td>\n",
       "    </tr>\n",
       "    <tr>\n",
       "      <th>6</th>\n",
       "      <td>hypothesis_6</td>\n",
       "      <td>40.0</td>\n",
       "    </tr>\n",
       "    <tr>\n",
       "      <th>0</th>\n",
       "      <td>hypothesis_0</td>\n",
       "      <td>40.0</td>\n",
       "    </tr>\n",
       "    <tr>\n",
       "      <th>3</th>\n",
       "      <td>hypothesis_3</td>\n",
       "      <td>9.0</td>\n",
       "    </tr>\n",
       "    <tr>\n",
       "      <th>1</th>\n",
       "      <td>hypothesis_1</td>\n",
       "      <td>4.0</td>\n",
       "    </tr>\n",
       "    <tr>\n",
       "      <th>5</th>\n",
       "      <td>hypothesis_5</td>\n",
       "      <td>4.0</td>\n",
       "    </tr>\n",
       "    <tr>\n",
       "      <th>4</th>\n",
       "      <td>hypothesis_4</td>\n",
       "      <td>3.0</td>\n",
       "    </tr>\n",
       "  </tbody>\n",
       "</table>\n",
       "</div>"
      ],
      "text/plain": [
       "  hypothesis_no   RICE\n",
       "7  hypothesis_7  112.0\n",
       "2  hypothesis_2   56.0\n",
       "6  hypothesis_6   40.0\n",
       "0  hypothesis_0   40.0\n",
       "3  hypothesis_3    9.0\n",
       "1  hypothesis_1    4.0\n",
       "5  hypothesis_5    4.0\n",
       "4  hypothesis_4    3.0"
      ]
     },
     "execution_count": 24,
     "metadata": {},
     "output_type": "execute_result"
    }
   ],
   "source": [
    "# calcula RICE para as hipóteses e as classifica em ordem decrescente de prioridade\n",
    "hypotheses_us['RICE'] = (hypotheses_us['reach'] * hypotheses_us['impact'] * hypotheses_us['confidence']) / hypotheses_us['effort']\n",
    "\n",
    "hypotheses_us[['hypothesis_no', 'RICE']].sort_values(by='RICE', ascending=False)"
   ]
  },
  {
   "cell_type": "markdown",
   "id": "58b530aa",
   "metadata": {},
   "source": [
    "E, novamente, as hipóteses mais promissoras são 0, 2, 6 e 7. No entanto, desta vez, o número 7 ficou em primeiro lugar. Isso porque seu parâmetro Reach (Alcance) é 10, enquanto as demais hipóteses possuem valores menores para este parâmetro."
   ]
  },
  {
   "cell_type": "markdown",
   "id": "fd86e7e8",
   "metadata": {},
   "source": [
    "## Parte 3. Análise de teste A/B"
   ]
  },
  {
   "cell_type": "markdown",
   "id": "5feea3cc",
   "metadata": {},
   "source": [
    "Foi implementado um teste A/B para medir os efeitos da hipótese priorizada. Os usuários foram divididos aleatoriamente nos grupos A (controle) e B (teste)."
   ]
  },
  {
   "cell_type": "markdown",
   "id": "c2a0a123",
   "metadata": {},
   "source": [
    "Realização de uma análise detalhada dos resultados do teste A/B com base nas visitas e pedidos registrados:\n",
    "\n",
    "* Criação de gráfico, com comentários sobre as tendências observadas:\n",
    "    * Da receita acumulada por grupo de teste\n",
    "    * Do tamanho médio acumulado dos pedidos\n",
    "    * Da diferença relativa no tamanho médio do pedido entre os grupos ao longo do tempo.\n",
    "* Cálculo e comparação das taxas diárias de conversão de cada grupo.\n",
    "* Criação de gráfico da diferença relativa na conversão cumulativa para o grupo B em relação ao grupo A.\n",
    "* Cálculo dos percentis 95 e 99 para:\n",
    "    * o número de pedidos por usuário\n",
    "    * os preços dos pedidos (e criação de gráfico de dispersão dos preços dos pedidos)\n",
    "* Definição de limites para filtrar anomalias e analisar a influência das anomalias nos resultados.\n",
    "* Condução de testes estatísticos (teste de Mann-Whitney) para avaliar a significância das diferenças entre os grupos, tanto em termos de conversão quanto de tamanho médio do pedido, com e sem as anomalias.\n",
    "\n",
    "Com base nas análises realizadas, será apresentada a decisão se o experimento deveria ser encerrado ou continuado, considerando os seguintes cenários:\n",
    "* Encerramento do teste com liderança clara de um grupo.\n",
    "* Encerramento do teste sem diferença estatística entre os grupos.\n",
    "* Continuação do teste para obter dados adicionais."
   ]
  },
  {
   "cell_type": "markdown",
   "id": "0a747a99",
   "metadata": {},
   "source": [
    "Para realizar a análise cumulativa dos dados do experimento A/B, o primeiro passo foi construir um vetor contendo todas as combinações únicas entre as datas (`date`) e os grupos de teste (`group`)."
   ]
  },
  {
   "cell_type": "code",
   "execution_count": 25,
   "id": "c66ba660",
   "metadata": {},
   "outputs": [
    {
     "data": {
      "text/html": [
       "<div>\n",
       "<style scoped>\n",
       "    .dataframe tbody tr th:only-of-type {\n",
       "        vertical-align: middle;\n",
       "    }\n",
       "\n",
       "    .dataframe tbody tr th {\n",
       "        vertical-align: top;\n",
       "    }\n",
       "\n",
       "    .dataframe thead th {\n",
       "        text-align: right;\n",
       "    }\n",
       "</style>\n",
       "<table border=\"1\" class=\"dataframe\">\n",
       "  <thead>\n",
       "    <tr style=\"text-align: right;\">\n",
       "      <th></th>\n",
       "      <th>date</th>\n",
       "      <th>group</th>\n",
       "    </tr>\n",
       "  </thead>\n",
       "  <tbody>\n",
       "    <tr>\n",
       "      <th>0</th>\n",
       "      <td>2019-08-15</td>\n",
       "      <td>B</td>\n",
       "    </tr>\n",
       "    <tr>\n",
       "      <th>2</th>\n",
       "      <td>2019-08-15</td>\n",
       "      <td>A</td>\n",
       "    </tr>\n",
       "    <tr>\n",
       "      <th>45</th>\n",
       "      <td>2019-08-16</td>\n",
       "      <td>A</td>\n",
       "    </tr>\n",
       "    <tr>\n",
       "      <th>47</th>\n",
       "      <td>2019-08-16</td>\n",
       "      <td>B</td>\n",
       "    </tr>\n",
       "    <tr>\n",
       "      <th>55</th>\n",
       "      <td>2019-08-01</td>\n",
       "      <td>A</td>\n",
       "    </tr>\n",
       "    <tr>\n",
       "      <th>...</th>\n",
       "      <td>...</td>\n",
       "      <td>...</td>\n",
       "    </tr>\n",
       "    <tr>\n",
       "      <th>1068</th>\n",
       "      <td>2019-08-12</td>\n",
       "      <td>A</td>\n",
       "    </tr>\n",
       "    <tr>\n",
       "      <th>1114</th>\n",
       "      <td>2019-08-13</td>\n",
       "      <td>B</td>\n",
       "    </tr>\n",
       "    <tr>\n",
       "      <th>1116</th>\n",
       "      <td>2019-08-13</td>\n",
       "      <td>A</td>\n",
       "    </tr>\n",
       "    <tr>\n",
       "      <th>1149</th>\n",
       "      <td>2019-08-14</td>\n",
       "      <td>B</td>\n",
       "    </tr>\n",
       "    <tr>\n",
       "      <th>1150</th>\n",
       "      <td>2019-08-14</td>\n",
       "      <td>A</td>\n",
       "    </tr>\n",
       "  </tbody>\n",
       "</table>\n",
       "<p>62 rows × 2 columns</p>\n",
       "</div>"
      ],
      "text/plain": [
       "           date group\n",
       "0    2019-08-15     B\n",
       "2    2019-08-15     A\n",
       "45   2019-08-16     A\n",
       "47   2019-08-16     B\n",
       "55   2019-08-01     A\n",
       "...         ...   ...\n",
       "1068 2019-08-12     A\n",
       "1114 2019-08-13     B\n",
       "1116 2019-08-13     A\n",
       "1149 2019-08-14     B\n",
       "1150 2019-08-14     A\n",
       "\n",
       "[62 rows x 2 columns]"
      ]
     },
     "execution_count": 25,
     "metadata": {},
     "output_type": "execute_result"
    }
   ],
   "source": [
    "# constrói vetor com valores de pares unívocos de 'date' e 'group'\n",
    "datesGroups = orders_us[['date','group']].drop_duplicates()\n",
    "datesGroups"
   ]
  },
  {
   "cell_type": "markdown",
   "id": "1f8ed46d",
   "metadata": {},
   "source": [
    "Com o vetor de combinações únicas entre data e grupo pronto, o próximo passo é criar os DataFrames `ordersAggregated` e `visitsAggregated`, contendo, respectivamente, os dados diários acumulados de pedidos e de visitas realizados durante o experimento. \n",
    "\n",
    "Para cada par `date-group`, os dados serão filtrados considerando todas as ocorrências até a data em questão e pertencentes ao grupo correspondente, e em seguida agregados para calcular o total acumulado de pedidos, visitantes únicos, receita e número de visitas. "
   ]
  },
  {
   "cell_type": "code",
   "execution_count": null,
   "id": "a6406342",
   "metadata": {},
   "outputs": [
    {
     "data": {
      "text/html": [
       "<div>\n",
       "<style scoped>\n",
       "    .dataframe tbody tr th:only-of-type {\n",
       "        vertical-align: middle;\n",
       "    }\n",
       "\n",
       "    .dataframe tbody tr th {\n",
       "        vertical-align: top;\n",
       "    }\n",
       "\n",
       "    .dataframe thead th {\n",
       "        text-align: right;\n",
       "    }\n",
       "</style>\n",
       "<table border=\"1\" class=\"dataframe\">\n",
       "  <thead>\n",
       "    <tr style=\"text-align: right;\">\n",
       "      <th></th>\n",
       "      <th>date</th>\n",
       "      <th>group</th>\n",
       "      <th>transaction_id</th>\n",
       "      <th>visitor_id</th>\n",
       "      <th>revenue</th>\n",
       "    </tr>\n",
       "  </thead>\n",
       "  <tbody>\n",
       "    <tr>\n",
       "      <th>55</th>\n",
       "      <td>2019-08-01</td>\n",
       "      <td>A</td>\n",
       "      <td>24</td>\n",
       "      <td>20</td>\n",
       "      <td>2356.8</td>\n",
       "    </tr>\n",
       "    <tr>\n",
       "      <th>66</th>\n",
       "      <td>2019-08-01</td>\n",
       "      <td>B</td>\n",
       "      <td>21</td>\n",
       "      <td>20</td>\n",
       "      <td>1620.0</td>\n",
       "    </tr>\n",
       "    <tr>\n",
       "      <th>175</th>\n",
       "      <td>2019-08-02</td>\n",
       "      <td>A</td>\n",
       "      <td>44</td>\n",
       "      <td>38</td>\n",
       "      <td>3860.3</td>\n",
       "    </tr>\n",
       "    <tr>\n",
       "      <th>173</th>\n",
       "      <td>2019-08-02</td>\n",
       "      <td>B</td>\n",
       "      <td>45</td>\n",
       "      <td>43</td>\n",
       "      <td>4243.8</td>\n",
       "    </tr>\n",
       "    <tr>\n",
       "      <th>291</th>\n",
       "      <td>2019-08-03</td>\n",
       "      <td>A</td>\n",
       "      <td>68</td>\n",
       "      <td>62</td>\n",
       "      <td>5675.5</td>\n",
       "    </tr>\n",
       "  </tbody>\n",
       "</table>\n",
       "</div>"
      ],
      "text/plain": [
       "          date group  transaction_id  visitor_id  revenue\n",
       "55  2019-08-01     A              24          20   2356.8\n",
       "66  2019-08-01     B              21          20   1620.0\n",
       "175 2019-08-02     A              44          38   3860.3\n",
       "173 2019-08-02     B              45          43   4243.8\n",
       "291 2019-08-03     A              68          62   5675.5"
      ]
     },
     "execution_count": 26,
     "metadata": {},
     "output_type": "execute_result"
    }
   ],
   "source": [
    "# obtém dados diários cumulativos agregados sobre pedidos\n",
    "ordersAggregated = datesGroups.apply(\n",
    "    lambda x: orders_us[np.logical_and(orders_us['date'] <= x['date'], orders_us['group'] == x['group'])]\n",
    "    .agg({\n",
    "        'date' : 'max',\n",
    "        'group' : 'max',\n",
    "        'transaction_id' : pd.Series.nunique,\n",
    "        'visitor_id' : pd.Series.nunique,\n",
    "        'revenue' : 'sum'\n",
    "        }), axis=1).sort_values(by=['date','group'])\n",
    "\n",
    "ordersAggregated.head()"
   ]
  },
  {
   "cell_type": "code",
   "execution_count": 27,
   "id": "71f11e51",
   "metadata": {},
   "outputs": [
    {
     "data": {
      "text/html": [
       "<div>\n",
       "<style scoped>\n",
       "    .dataframe tbody tr th:only-of-type {\n",
       "        vertical-align: middle;\n",
       "    }\n",
       "\n",
       "    .dataframe tbody tr th {\n",
       "        vertical-align: top;\n",
       "    }\n",
       "\n",
       "    .dataframe thead th {\n",
       "        text-align: right;\n",
       "    }\n",
       "</style>\n",
       "<table border=\"1\" class=\"dataframe\">\n",
       "  <thead>\n",
       "    <tr style=\"text-align: right;\">\n",
       "      <th></th>\n",
       "      <th>date</th>\n",
       "      <th>group</th>\n",
       "      <th>visits</th>\n",
       "    </tr>\n",
       "  </thead>\n",
       "  <tbody>\n",
       "    <tr>\n",
       "      <th>55</th>\n",
       "      <td>2019-08-01</td>\n",
       "      <td>A</td>\n",
       "      <td>719</td>\n",
       "    </tr>\n",
       "    <tr>\n",
       "      <th>66</th>\n",
       "      <td>2019-08-01</td>\n",
       "      <td>B</td>\n",
       "      <td>713</td>\n",
       "    </tr>\n",
       "    <tr>\n",
       "      <th>175</th>\n",
       "      <td>2019-08-02</td>\n",
       "      <td>A</td>\n",
       "      <td>1338</td>\n",
       "    </tr>\n",
       "    <tr>\n",
       "      <th>173</th>\n",
       "      <td>2019-08-02</td>\n",
       "      <td>B</td>\n",
       "      <td>1294</td>\n",
       "    </tr>\n",
       "    <tr>\n",
       "      <th>291</th>\n",
       "      <td>2019-08-03</td>\n",
       "      <td>A</td>\n",
       "      <td>1845</td>\n",
       "    </tr>\n",
       "  </tbody>\n",
       "</table>\n",
       "</div>"
      ],
      "text/plain": [
       "          date group  visits\n",
       "55  2019-08-01     A     719\n",
       "66  2019-08-01     B     713\n",
       "175 2019-08-02     A    1338\n",
       "173 2019-08-02     B    1294\n",
       "291 2019-08-03     A    1845"
      ]
     },
     "execution_count": 27,
     "metadata": {},
     "output_type": "execute_result"
    }
   ],
   "source": [
    "# obtém dados diários cumulativos agregados sobre visitas  \n",
    "visitsAggregated = datesGroups.apply(\n",
    "    lambda x: visits_us[np.logical_and(visits_us['date'] <= x['date'], visits_us['group'] == x['group'])]\n",
    "    .agg({\n",
    "        'date' : 'max',\n",
    "        'group' : 'max',\n",
    "        'visits' : 'sum'\n",
    "        }), axis=1).sort_values(by=['date','group'])\n",
    "\n",
    "visitsAggregated.head()"
   ]
  },
  {
   "cell_type": "markdown",
   "id": "abccc4ee",
   "metadata": {},
   "source": [
    "Agora as duas tabelas serão combinadas em um único df chamado `cumulativeData`, a partir do método `.merge()` com base nas colunas `date` e `group`."
   ]
  },
  {
   "cell_type": "code",
   "execution_count": 28,
   "id": "0b0f8bdb",
   "metadata": {},
   "outputs": [
    {
     "data": {
      "text/html": [
       "<div>\n",
       "<style scoped>\n",
       "    .dataframe tbody tr th:only-of-type {\n",
       "        vertical-align: middle;\n",
       "    }\n",
       "\n",
       "    .dataframe tbody tr th {\n",
       "        vertical-align: top;\n",
       "    }\n",
       "\n",
       "    .dataframe thead th {\n",
       "        text-align: right;\n",
       "    }\n",
       "</style>\n",
       "<table border=\"1\" class=\"dataframe\">\n",
       "  <thead>\n",
       "    <tr style=\"text-align: right;\">\n",
       "      <th></th>\n",
       "      <th>date</th>\n",
       "      <th>group</th>\n",
       "      <th>orders</th>\n",
       "      <th>buyers</th>\n",
       "      <th>revenue</th>\n",
       "      <th>visits</th>\n",
       "    </tr>\n",
       "  </thead>\n",
       "  <tbody>\n",
       "    <tr>\n",
       "      <th>0</th>\n",
       "      <td>2019-08-01</td>\n",
       "      <td>A</td>\n",
       "      <td>24</td>\n",
       "      <td>20</td>\n",
       "      <td>2356.8</td>\n",
       "      <td>719</td>\n",
       "    </tr>\n",
       "    <tr>\n",
       "      <th>1</th>\n",
       "      <td>2019-08-01</td>\n",
       "      <td>B</td>\n",
       "      <td>21</td>\n",
       "      <td>20</td>\n",
       "      <td>1620.0</td>\n",
       "      <td>713</td>\n",
       "    </tr>\n",
       "    <tr>\n",
       "      <th>2</th>\n",
       "      <td>2019-08-02</td>\n",
       "      <td>A</td>\n",
       "      <td>44</td>\n",
       "      <td>38</td>\n",
       "      <td>3860.3</td>\n",
       "      <td>1338</td>\n",
       "    </tr>\n",
       "    <tr>\n",
       "      <th>3</th>\n",
       "      <td>2019-08-02</td>\n",
       "      <td>B</td>\n",
       "      <td>45</td>\n",
       "      <td>43</td>\n",
       "      <td>4243.8</td>\n",
       "      <td>1294</td>\n",
       "    </tr>\n",
       "    <tr>\n",
       "      <th>4</th>\n",
       "      <td>2019-08-03</td>\n",
       "      <td>A</td>\n",
       "      <td>68</td>\n",
       "      <td>62</td>\n",
       "      <td>5675.5</td>\n",
       "      <td>1845</td>\n",
       "    </tr>\n",
       "  </tbody>\n",
       "</table>\n",
       "</div>"
      ],
      "text/plain": [
       "        date group  orders  buyers  revenue  visits\n",
       "0 2019-08-01     A      24      20   2356.8     719\n",
       "1 2019-08-01     B      21      20   1620.0     713\n",
       "2 2019-08-02     A      44      38   3860.3    1338\n",
       "3 2019-08-02     B      45      43   4243.8    1294\n",
       "4 2019-08-03     A      68      62   5675.5    1845"
      ]
     },
     "execution_count": 28,
     "metadata": {},
     "output_type": "execute_result"
    }
   ],
   "source": [
    "# junta as duas tabelas em uma e dá nomes descritivos para suas colunas\n",
    "cumulativeData = ordersAggregated.merge(visitsAggregated, left_on=['date', 'group'], right_on=['date', 'group'])\n",
    "cumulativeData.columns = ['date', 'group', 'orders', 'buyers', 'revenue', 'visits']\n",
    "cumulativeData.head()"
   ]
  },
  {
   "cell_type": "markdown",
   "id": "9c5d1a45",
   "metadata": {},
   "source": [
    "Para visualizar a receita acumulada por grupo, será criado um gráfico de linhas que mostra a evolução da receita ao longo do tempo para cada grupo do experimento A/B. Esse gráfico permitirá comparar visualmente o desempenho financeiro dos grupos A e B, identificando diferenças na trajetória da receita acumulada e possibilitando a análise do impacto da intervenção testada."
   ]
  },
  {
   "cell_type": "code",
   "execution_count": 29,
   "id": "bfb686f2",
   "metadata": {},
   "outputs": [],
   "source": [
    "# df com pedidos cumulativos e receita cumulativa por dia (grupo A)\n",
    "cumulativeRevenueA = cumulativeData[cumulativeData['group']=='A'][['date','revenue', 'orders']]\n",
    "\n",
    "# df com pedidos cumulativos e receita cumulativa por dia (grupo B)\n",
    "cumulativeRevenueB = cumulativeData[cumulativeData['group']=='B'][['date','revenue', 'orders']]"
   ]
  },
  {
   "cell_type": "code",
   "execution_count": 42,
   "id": "3dc81ab8",
   "metadata": {},
   "outputs": [
    {
     "data": {
      "image/png": "[encoded data removed]",
      "text/plain": [
       "<Figure size 1300x900 with 1 Axes>"
      ]
     },
     "metadata": {},
     "output_type": "display_data"
    }
   ],
   "source": [
    "# constrói o gráfico de receita do grupo A \n",
    "plt.figure(figsize=(13, 9))\n",
    "plt.plot(cumulativeRevenueA['date'], cumulativeRevenueA['revenue'], label='A')\n",
    "\n",
    "# construindo o gráfico de receita do grupo B \n",
    "plt.plot(cumulativeRevenueB['date'], cumulativeRevenueB['revenue'], label='B')\n",
    "\n",
    "plt.legend()\n",
    "plt.title('Receita acumulada por grupo')\n",
    "plt.grid()\n",
    "plt.show()\n",
    "plt.close()"
   ]
  },
  {
   "cell_type": "markdown",
   "id": "4dd61ebc",
   "metadata": {},
   "source": [
    "Observações: \n",
    "* Ambos os grupos apresentam um crescimento contínuo na receita acumulada ao longo do período, o que indica que as vendas são constantes.\n",
    "* O grupo B acumula uma reveita maior que o grupo A em praticamente todo o período, o que pode indicar que a intervenção aplicada no grupo B teve um impacto positivo na geração de receita, tendo um salto considerável após a data 2019-08-18. Esse aumento é, depois, mantido pelo grupo B, o que pode indicar que o efeito da intervenção feito neste grupo é duradouro e consistente.\n",
    "\n",
    "O salto observado pode indicar o início de uma ação de marketing, uma melhoria na experiência do usuário ou outra variável que impactou positivamente as vendas do grupo B. A diferença consistente sugere que a mudança testada vale a pena ser implementada definitivamente, investigando, também, se houve impacto em outros indicadores, como taxa de conversão ou tamanho médio do pedido."
   ]
  },
  {
   "cell_type": "markdown",
   "id": "ebca49c8",
   "metadata": {},
   "source": [
    "Agora, será construído o gráfico do volume médio de compra por grupo. Para isso, a receita cumulativa serpa dividida pela quantidade cumulativa de pedidos."
   ]
  },
  {
   "cell_type": "code",
   "execution_count": 44,
   "id": "cc1d6ac2",
   "metadata": {},
   "outputs": [
    {
     "data": {
      "image/png": "[encoded data removed]",
      "text/plain": [
       "<Figure size 1300x900 with 1 Axes>"
      ]
     },
     "metadata": {},
     "output_type": "display_data"
    }
   ],
   "source": [
    "plt.figure(figsize=(13, 9))\n",
    "plt.plot(cumulativeRevenueA['date'], cumulativeRevenueA['revenue']/cumulativeRevenueA['orders'], label='A')\n",
    "plt.plot(cumulativeRevenueB['date'], cumulativeRevenueB['revenue']/cumulativeRevenueB['orders'], label='B')\n",
    "\n",
    "plt.legend()\n",
    "plt.title('Volume médio de compra por grupo')\n",
    "plt.grid()\n",
    "plt.show()\n",
    "plt.close()"
   ]
  },
  {
   "cell_type": "markdown",
   "id": "2ffac7bd",
   "metadata": {},
   "source": [
    "Observações:\n",
    "* Ambos os grupos mostram flutuações no volume médio de compra ao longo do período, mas o grupo A mantém um comportamento mais estável e menos volátil, com uma leve tendência de alta ao longo do mês.\n",
    "* Até o dia 18 de agosto, os grupos A e B estão relativamente próximos, com pequenas diferenças e trocando liderança. Após essa data, há um pico brusco no grupo B, tornando seu volume médio de compra muito superior ao grupo A. Após o dia 21, o grupo B apresenta uma queda gradual neste volume (indicando que o impacto pode ser a curto prazo), mas ainda permanece com valores mais altos que o grupo A.\n"
   ]
  },
  {
   "cell_type": "markdown",
   "id": "18977c6e",
   "metadata": {},
   "source": [
    "Para analisar melhor o impacto da variação testada, será construído um gráfico de diferença relativa para os volumes médios de compras do grupo B em comparação ao grupo A, acrescentando um horizontal com o método `axhline()`. Essa diferença relativa mostra quanto melhor (ou pior) o Grupo B performou em relação ao Grupo A (baseline) em termos de valor médio por pedido."
   ]
  },
  {
   "cell_type": "code",
   "execution_count": 48,
   "id": "bcfe7b50",
   "metadata": {},
   "outputs": [
    {
     "data": {
      "image/png": "[encoded data removed]",
      "text/plain": [
       "<Figure size 1300x900 with 1 Axes>"
      ]
     },
     "metadata": {},
     "output_type": "display_data"
    }
   ],
   "source": [
    "# reunindo os dados em um DataFrame\n",
    "mergedCumulativeRevenue = cumulativeRevenueA.merge(\n",
    "    cumulativeRevenueB,\n",
    "    left_on='date',\n",
    "    right_on='date',\n",
    "    how='left',\n",
    "    suffixes=['A', 'B'])\n",
    "\n",
    "# construindo um gráfico de diferença relativa para os volumes médios de compra\n",
    "plt.figure(figsize=(13, 9))\n",
    "\n",
    "plt.plot(mergedCumulativeRevenue['date'], (mergedCumulativeRevenue['revenueB']/mergedCumulativeRevenue['ordersB'])/(mergedCumulativeRevenue['revenueA']/mergedCumulativeRevenue['ordersA'])-1)\n",
    "\n",
    "# acrescentando o eixo X\n",
    "plt.axhline(y=0, color='black', linestyle='--')\n",
    "plt.title('Diferença relativa no tamanho médio acumulado de pedidos (Grupo B vs Grupo A)')\n",
    "plt.grid()\n",
    "plt.show()\n",
    "plt.close()"
   ]
  },
  {
   "cell_type": "markdown",
   "id": "01c3626b",
   "metadata": {},
   "source": [
    "Observações:\n",
    "* O gráfico mostra que a diferença relativa no volume médio entre os grupos não é constante, apresentando picos (aumentos abruptos) em determinados momentos. \n",
    "* Observa-se que a linha mantém-se próxima a zero até o dia 05, indicando que os grupos apresentavam desempenhos similares. O grupo B consegue ultrapassar o grupo A em um breve período entre os dias 6 e 8, mas logo depois a diferença cai rapidamente até o dia 13.\n",
    "* Após o dia 13, o valor volta a subir e por volta do dia 18, observa-se um aumento acentuado na diferença relativa, indicando que o grupo B teve um pico positivo no seu volume médio, que ficou significativamente maior que o Grupo A. \n",
    "* Após esse salto, a diferença começa a diminuir gradualmente, mas permanece positiva até o fim do mês, indicando que o grupo B manteve pedidos médios maiores do que o grupo A, mesmo após o efeito inicial começar a se dissipar."
   ]
  },
  {
   "cell_type": "markdown",
   "id": "34307c35",
   "metadata": {},
   "source": [
    "É preciso verificar se essa diferença do volume médio entre os grupos veio de mais compradores (aumento de conversão) ou apenas de compras maiores (aumento de valor sem crescimento na base)."
   ]
  },
  {
   "cell_type": "code",
   "execution_count": null,
   "id": "5184e7a4",
   "metadata": {},
   "outputs": [
    {
     "data": {
      "image/png": "[encoded data removed]",
      "text/plain": [
       "<Figure size 1300x900 with 1 Axes>"
      ]
     },
     "metadata": {},
     "output_type": "display_data"
    }
   ],
   "source": [
    "# calculando a conversão cumulativa\n",
    "cumulativeData['conversion'] = cumulativeData['orders']/cumulativeData['visits']\n",
    "\n",
    "# selecionando dados no grupo A\n",
    "cumulativeDataA = cumulativeData[cumulativeData['group']=='A']\n",
    "\n",
    "# Selecionando dados no grupo B\n",
    "cumulativeDataB = cumulativeData[cumulativeData['group']=='B']\n",
    "\n",
    "# construindo os gráficos\n",
    "plt.figure(figsize=(13, 9))\n",
    "\n",
    "plt.plot(cumulativeDataA['date'], cumulativeDataA['conversion'], label='A')\n",
    "plt.plot(cumulativeDataB['date'], cumulativeDataB['conversion'], label='B')\n",
    "plt.title('Conversão cumulativa para cada grupo')\n",
    "plt.legend()\n",
    "\n",
    "# definindo a escala dos eixos\n",
    "plt.axis([pd.to_datetime(\"2019-08-01\"), pd.to_datetime('2019-09-01'), 0, 0.05])\n",
    "plt.grid()\n",
    "plt.show()\n",
    "plt.close()"
   ]
  },
  {
   "cell_type": "markdown",
   "id": "3ca9c7f4",
   "metadata": {},
   "source": [
    "Observações:\n",
    "* Ambos os grupos começam com taxas de conversão próximas, indicando comportamento similar no início do teste, mas após o dia 9, o grupo B mostra um aumento mais acentuado na conversão cumulativa em comparação com o grupo A. \n",
    "* A diferença entre os grupos se torna mais pronunciada a partir de meados de agosto (por volta do dia 13/08).\n",
    "* Ambos os grupos apresentam um crescimento estável na conversão cumulativa, sem quedas bruscas, mas com a conversão do grupo B mantendo-se acima do grupo A."
   ]
  },
  {
   "cell_type": "markdown",
   "id": "1376a36f",
   "metadata": {},
   "source": [
    "Para avaliar visualmente o desempenho relativo dos dois grupos no experimento A/B, será criado um gráfico que mostra, dia após dia, a diferença relativa entre as taxas de conversão cumulativas dos grupos B e A ao longo do tempo.\n",
    "\n",
    "A ideia é observar se o grupo B está consistentemente apresentando maior taxa de conversão que o grupo A, ou se os resultados oscilam ou convergem ao longo do tempo.\n",
    "\n",
    "Para isso, será criado o DataFrame `mergedCumulativeConversions`, contendo os dados de conversão acumulada por data para ambos os grupos. A junção será feita com base na coluna `date`, permitindo comparar as conversões dos dois grupos em cada ponto da linha do tempo."
   ]
  },
  {
   "cell_type": "code",
   "execution_count": 51,
   "id": "9131d2cc",
   "metadata": {},
   "outputs": [
    {
     "data": {
      "image/png": "[encoded data removed]",
      "text/plain": [
       "<Figure size 1300x900 with 1 Axes>"
      ]
     },
     "metadata": {},
     "output_type": "display_data"
    }
   ],
   "source": [
    "mergedCumulativeConversions = cumulativeDataA[['date','conversion']].merge(cumulativeDataB[['date','conversion']], left_on='date', right_on='date', how='left', suffixes=['A', 'B'])\n",
    "\n",
    "plt.figure(figsize=(13, 9))\n",
    "plt.plot(mergedCumulativeConversions['date'], mergedCumulativeConversions['conversionB']/mergedCumulativeConversions['conversionA']-1)\n",
    "\n",
    "plt.title('Diferença relativa na conversão cumulativa (Grupo B vs Grupo A)')\n",
    "\n",
    "plt.axhline(y=0, color='black', linestyle='--')\n",
    "plt.axhline(y=0.2, color='grey', linestyle='--')\n",
    "plt.axis([pd.to_datetime('2019-08-01'), pd.to_datetime('2019-09-01'), -0.5, 0.5])\n",
    "\n",
    "plt.grid()\n",
    "plt.show()\n",
    "plt.close()\n"
   ]
  },
  {
   "cell_type": "markdown",
   "id": "152bf5e3",
   "metadata": {},
   "source": [
    "Observações:\n",
    "* O gráfico inicia com valores negativos ou muito próximos de zero, indicando que o grupo B estava com desempenho igual ou ligeiramente inferior ao grupo A.\n",
    "* Após o dia 5, o gráfico apresenta um crescimento constante, indicando uma melhora na conversão cumulativa pelo grupo B.\n",
    "* O grupo B mantém desempenho superior ao A em conversão cumulativa durante praticamente todo o mês, com um pico por volta do dia 15. \n",
    "* Após o pico, a diferença se mantém estável entre 0.1 e 0.2. \n",
    "\n",
    "A intervenção aplicada ao grupo B parece ter aumentado a taxa de conversão de forma clara e sustentada ao longo do tempo."
   ]
  },
  {
   "cell_type": "markdown",
   "id": "fcb11c98",
   "metadata": {},
   "source": [
    "Para verificar se há anomalias nos dados, serão calculados os percentis 95 e 99 para o número de pedidos por usuário. Isso permite identificar se há outliners que podem distorcer as médias.\n"
   ]
  },
  {
   "cell_type": "code",
   "execution_count": 52,
   "id": "2005a806",
   "metadata": {},
   "outputs": [
    {
     "data": {
      "text/html": [
       "<div>\n",
       "<style scoped>\n",
       "    .dataframe tbody tr th:only-of-type {\n",
       "        vertical-align: middle;\n",
       "    }\n",
       "\n",
       "    .dataframe tbody tr th {\n",
       "        vertical-align: top;\n",
       "    }\n",
       "\n",
       "    .dataframe thead th {\n",
       "        text-align: right;\n",
       "    }\n",
       "</style>\n",
       "<table border=\"1\" class=\"dataframe\">\n",
       "  <thead>\n",
       "    <tr style=\"text-align: right;\">\n",
       "      <th></th>\n",
       "      <th>transaction_id</th>\n",
       "      <th>visitor_id</th>\n",
       "      <th>date</th>\n",
       "      <th>revenue</th>\n",
       "      <th>group</th>\n",
       "    </tr>\n",
       "  </thead>\n",
       "  <tbody>\n",
       "    <tr>\n",
       "      <th>0</th>\n",
       "      <td>3667963787</td>\n",
       "      <td>3312258926</td>\n",
       "      <td>2019-08-15</td>\n",
       "      <td>30.4</td>\n",
       "      <td>B</td>\n",
       "    </tr>\n",
       "    <tr>\n",
       "      <th>1</th>\n",
       "      <td>2804400009</td>\n",
       "      <td>3642806036</td>\n",
       "      <td>2019-08-15</td>\n",
       "      <td>15.2</td>\n",
       "      <td>B</td>\n",
       "    </tr>\n",
       "    <tr>\n",
       "      <th>2</th>\n",
       "      <td>2961555356</td>\n",
       "      <td>4069496402</td>\n",
       "      <td>2019-08-15</td>\n",
       "      <td>10.2</td>\n",
       "      <td>A</td>\n",
       "    </tr>\n",
       "    <tr>\n",
       "      <th>3</th>\n",
       "      <td>3797467345</td>\n",
       "      <td>1196621759</td>\n",
       "      <td>2019-08-15</td>\n",
       "      <td>155.1</td>\n",
       "      <td>B</td>\n",
       "    </tr>\n",
       "    <tr>\n",
       "      <th>4</th>\n",
       "      <td>2282983706</td>\n",
       "      <td>2322279887</td>\n",
       "      <td>2019-08-15</td>\n",
       "      <td>40.5</td>\n",
       "      <td>B</td>\n",
       "    </tr>\n",
       "  </tbody>\n",
       "</table>\n",
       "</div>"
      ],
      "text/plain": [
       "   transaction_id  visitor_id       date  revenue group\n",
       "0      3667963787  3312258926 2019-08-15     30.4     B\n",
       "1      2804400009  3642806036 2019-08-15     15.2     B\n",
       "2      2961555356  4069496402 2019-08-15     10.2     A\n",
       "3      3797467345  1196621759 2019-08-15    155.1     B\n",
       "4      2282983706  2322279887 2019-08-15     40.5     B"
      ]
     },
     "execution_count": 52,
     "metadata": {},
     "output_type": "execute_result"
    }
   ],
   "source": [
    "orders_us.head()"
   ]
  },
  {
   "cell_type": "code",
   "execution_count": null,
   "id": "1c93f7de",
   "metadata": {},
   "outputs": [
    {
     "data": {
      "text/html": [
       "<div>\n",
       "<style scoped>\n",
       "    .dataframe tbody tr th:only-of-type {\n",
       "        vertical-align: middle;\n",
       "    }\n",
       "\n",
       "    .dataframe tbody tr th {\n",
       "        vertical-align: top;\n",
       "    }\n",
       "\n",
       "    .dataframe thead th {\n",
       "        text-align: right;\n",
       "    }\n",
       "</style>\n",
       "<table border=\"1\" class=\"dataframe\">\n",
       "  <thead>\n",
       "    <tr style=\"text-align: right;\">\n",
       "      <th></th>\n",
       "      <th>visitor_id</th>\n",
       "      <th>orders</th>\n",
       "    </tr>\n",
       "  </thead>\n",
       "  <tbody>\n",
       "    <tr>\n",
       "      <th>0</th>\n",
       "      <td>5114589</td>\n",
       "      <td>1</td>\n",
       "    </tr>\n",
       "    <tr>\n",
       "      <th>1</th>\n",
       "      <td>6958315</td>\n",
       "      <td>1</td>\n",
       "    </tr>\n",
       "    <tr>\n",
       "      <th>2</th>\n",
       "      <td>8300375</td>\n",
       "      <td>2</td>\n",
       "    </tr>\n",
       "    <tr>\n",
       "      <th>3</th>\n",
       "      <td>11685486</td>\n",
       "      <td>1</td>\n",
       "    </tr>\n",
       "    <tr>\n",
       "      <th>4</th>\n",
       "      <td>39475350</td>\n",
       "      <td>1</td>\n",
       "    </tr>\n",
       "    <tr>\n",
       "      <th>...</th>\n",
       "      <td>...</td>\n",
       "      <td>...</td>\n",
       "    </tr>\n",
       "    <tr>\n",
       "      <th>1026</th>\n",
       "      <td>4266935830</td>\n",
       "      <td>2</td>\n",
       "    </tr>\n",
       "    <tr>\n",
       "      <th>1027</th>\n",
       "      <td>4278982564</td>\n",
       "      <td>1</td>\n",
       "    </tr>\n",
       "    <tr>\n",
       "      <th>1028</th>\n",
       "      <td>4279090005</td>\n",
       "      <td>1</td>\n",
       "    </tr>\n",
       "    <tr>\n",
       "      <th>1029</th>\n",
       "      <td>4281247801</td>\n",
       "      <td>1</td>\n",
       "    </tr>\n",
       "    <tr>\n",
       "      <th>1030</th>\n",
       "      <td>4283872382</td>\n",
       "      <td>1</td>\n",
       "    </tr>\n",
       "  </tbody>\n",
       "</table>\n",
       "<p>1031 rows × 2 columns</p>\n",
       "</div>"
      ],
      "text/plain": [
       "      visitor_id  orders\n",
       "0        5114589       1\n",
       "1        6958315       1\n",
       "2        8300375       2\n",
       "3       11685486       1\n",
       "4       39475350       1\n",
       "...          ...     ...\n",
       "1026  4266935830       2\n",
       "1027  4278982564       1\n",
       "1028  4279090005       1\n",
       "1029  4281247801       1\n",
       "1030  4283872382       1\n",
       "\n",
       "[1031 rows x 2 columns]"
      ]
     },
     "execution_count": 36,
     "metadata": {},
     "output_type": "execute_result"
    }
   ],
   "source": [
    "# cria um DataFrame com o total de pedidos por visitante\n",
    "ordersByUsers = (\n",
    "    orders_us.drop(['group', 'revenue', 'date'], axis=1)\n",
    "    .groupby('visitor_id', as_index=False)\n",
    "    .agg({'transaction_id': pd.Series.nunique})\n",
    ")\n",
    "\n",
    "ordersByUsers.columns = ['visitor_id', 'orders']\n",
    "ordersByUsers"
   ]
  },
  {
   "cell_type": "code",
   "execution_count": 53,
   "id": "48e0e724",
   "metadata": {},
   "outputs": [
    {
     "data": {
      "image/png": "[encoded data removed]",
      "text/plain": [
       "<Figure size 1300x900 with 1 Axes>"
      ]
     },
     "metadata": {},
     "output_type": "display_data"
    }
   ],
   "source": [
    "# cria um histograma do número de pedidos por visitante\n",
    "plt.figure(figsize=(13, 9))\n",
    "\n",
    "plt.hist(ordersByUsers['orders'])\n",
    "\n",
    "plt.title(\"Distribuição da quantidade de pedidos por visitante\")\n",
    "\n",
    "plt.show()\n",
    "plt.close()"
   ]
  },
  {
   "cell_type": "markdown",
   "id": "29655d5f",
   "metadata": {},
   "source": [
    "A maioria dos clientes realizou apenas um pedido. Porém, uma parcela significante efetuou de dois a quatro pedidos cada."
   ]
  },
  {
   "cell_type": "code",
   "execution_count": null,
   "id": "1ec1cf5b",
   "metadata": {},
   "outputs": [
    {
     "data": {
      "text/plain": [
       "array([2., 4.])"
      ]
     },
     "execution_count": 38,
     "metadata": {},
     "output_type": "execute_result"
    }
   ],
   "source": [
    "# calcula percentis para a quantidade de pedidos por usuário\n",
    "np.percentile(ordersByUsers['orders'], [95, 99])"
   ]
  },
  {
   "cell_type": "markdown",
   "id": "0a5eefa1",
   "metadata": {},
   "source": [
    "Menos de 5% dos usuários fez mais do que 2 pedidos e menos de 1% fez mais que 4 pedidos.\n",
    "Portanto, é razoável definir um limite de quatro pedidos por usuário como o limite superior para o comportamento normal e usar isso para filtrar qualquer anomalia. "
   ]
  },
  {
   "cell_type": "markdown",
   "id": "bbd8289a",
   "metadata": {},
   "source": [
    "Também serão calculados os percentis 95 e 99 para o valor dos pedidos. Isso permite identificar pedidos extremamente caros, que também podem ser anomalias."
   ]
  },
  {
   "cell_type": "code",
   "execution_count": 55,
   "id": "544d1cbc",
   "metadata": {},
   "outputs": [
    {
     "data": {
      "image/png": "[encoded data removed]",
      "text/plain": [
       "<Figure size 1300x900 with 1 Axes>"
      ]
     },
     "metadata": {},
     "output_type": "display_data"
    }
   ],
   "source": [
    "# cria um gráfico de dispersão do valor dos pedidos\n",
    "plt.figure(figsize=(13, 9))\n",
    "x_values = pd.Series(range(0,len(orders_us['revenue'])))\n",
    "\n",
    "plt.scatter(x_values, orders_us['revenue'])\n",
    "\n",
    "plt.title(\"Gráfico de dispersão de valor dos pedidos\")\n",
    "\n",
    "plt.grid()\n",
    "plt.show()\n",
    "plt.close()"
   ]
  },
  {
   "cell_type": "markdown",
   "id": "4f46b961",
   "metadata": {},
   "source": [
    "A maioria dos pedidos está concentrada abaixo de 1.000, com uma grande densidade entre os valores 0 e 500."
   ]
  },
  {
   "cell_type": "code",
   "execution_count": 54,
   "id": "58f72f47",
   "metadata": {},
   "outputs": [
    {
     "data": {
      "text/plain": [
       "array([435.54 , 900.904])"
      ]
     },
     "execution_count": 54,
     "metadata": {},
     "output_type": "execute_result"
    }
   ],
   "source": [
    "# calcula percentis para o valor por pedido\n",
    "np.percentile(orders_us['revenue'], [95, 99])"
   ]
  },
  {
   "cell_type": "markdown",
   "id": "edee9224",
   "metadata": {},
   "source": [
    "Menos de 5% dos pedidos ultrapassa o valor de 435.54, e menos de 1% dos pedidos tem o preço maior que 900.904.\n",
    "Vamos considerar como preços anômalos aqueles que forem superiores a 500."
   ]
  },
  {
   "cell_type": "code",
   "execution_count": 41,
   "id": "e249b13e",
   "metadata": {},
   "outputs": [
    {
     "data": {
      "text/html": [
       "<div>\n",
       "<style scoped>\n",
       "    .dataframe tbody tr th:only-of-type {\n",
       "        vertical-align: middle;\n",
       "    }\n",
       "\n",
       "    .dataframe tbody tr th {\n",
       "        vertical-align: top;\n",
       "    }\n",
       "\n",
       "    .dataframe thead th {\n",
       "        text-align: right;\n",
       "    }\n",
       "</style>\n",
       "<table border=\"1\" class=\"dataframe\">\n",
       "  <thead>\n",
       "    <tr style=\"text-align: right;\">\n",
       "      <th></th>\n",
       "      <th>transaction_id</th>\n",
       "      <th>visitor_id</th>\n",
       "      <th>date</th>\n",
       "      <th>revenue</th>\n",
       "      <th>group</th>\n",
       "    </tr>\n",
       "  </thead>\n",
       "  <tbody>\n",
       "    <tr>\n",
       "      <th>0</th>\n",
       "      <td>3667963787</td>\n",
       "      <td>3312258926</td>\n",
       "      <td>2019-08-15</td>\n",
       "      <td>30.4</td>\n",
       "      <td>B</td>\n",
       "    </tr>\n",
       "    <tr>\n",
       "      <th>1</th>\n",
       "      <td>2804400009</td>\n",
       "      <td>3642806036</td>\n",
       "      <td>2019-08-15</td>\n",
       "      <td>15.2</td>\n",
       "      <td>B</td>\n",
       "    </tr>\n",
       "    <tr>\n",
       "      <th>2</th>\n",
       "      <td>2961555356</td>\n",
       "      <td>4069496402</td>\n",
       "      <td>2019-08-15</td>\n",
       "      <td>10.2</td>\n",
       "      <td>A</td>\n",
       "    </tr>\n",
       "    <tr>\n",
       "      <th>3</th>\n",
       "      <td>3797467345</td>\n",
       "      <td>1196621759</td>\n",
       "      <td>2019-08-15</td>\n",
       "      <td>155.1</td>\n",
       "      <td>B</td>\n",
       "    </tr>\n",
       "    <tr>\n",
       "      <th>4</th>\n",
       "      <td>2282983706</td>\n",
       "      <td>2322279887</td>\n",
       "      <td>2019-08-15</td>\n",
       "      <td>40.5</td>\n",
       "      <td>B</td>\n",
       "    </tr>\n",
       "    <tr>\n",
       "      <th>...</th>\n",
       "      <td>...</td>\n",
       "      <td>...</td>\n",
       "      <td>...</td>\n",
       "      <td>...</td>\n",
       "      <td>...</td>\n",
       "    </tr>\n",
       "    <tr>\n",
       "      <th>1192</th>\n",
       "      <td>2662137336</td>\n",
       "      <td>3733762160</td>\n",
       "      <td>2019-08-14</td>\n",
       "      <td>100.8</td>\n",
       "      <td>B</td>\n",
       "    </tr>\n",
       "    <tr>\n",
       "      <th>1193</th>\n",
       "      <td>2203539145</td>\n",
       "      <td>370388673</td>\n",
       "      <td>2019-08-14</td>\n",
       "      <td>50.1</td>\n",
       "      <td>A</td>\n",
       "    </tr>\n",
       "    <tr>\n",
       "      <th>1194</th>\n",
       "      <td>1807773912</td>\n",
       "      <td>573423106</td>\n",
       "      <td>2019-08-14</td>\n",
       "      <td>165.3</td>\n",
       "      <td>A</td>\n",
       "    </tr>\n",
       "    <tr>\n",
       "      <th>1195</th>\n",
       "      <td>1947021204</td>\n",
       "      <td>1614305549</td>\n",
       "      <td>2019-08-14</td>\n",
       "      <td>5.5</td>\n",
       "      <td>A</td>\n",
       "    </tr>\n",
       "    <tr>\n",
       "      <th>1196</th>\n",
       "      <td>3936777065</td>\n",
       "      <td>2108080724</td>\n",
       "      <td>2019-08-15</td>\n",
       "      <td>3120.1</td>\n",
       "      <td>B</td>\n",
       "    </tr>\n",
       "  </tbody>\n",
       "</table>\n",
       "<p>1197 rows × 5 columns</p>\n",
       "</div>"
      ],
      "text/plain": [
       "      transaction_id  visitor_id       date  revenue group\n",
       "0         3667963787  3312258926 2019-08-15     30.4     B\n",
       "1         2804400009  3642806036 2019-08-15     15.2     B\n",
       "2         2961555356  4069496402 2019-08-15     10.2     A\n",
       "3         3797467345  1196621759 2019-08-15    155.1     B\n",
       "4         2282983706  2322279887 2019-08-15     40.5     B\n",
       "...              ...         ...        ...      ...   ...\n",
       "1192      2662137336  3733762160 2019-08-14    100.8     B\n",
       "1193      2203539145   370388673 2019-08-14     50.1     A\n",
       "1194      1807773912   573423106 2019-08-14    165.3     A\n",
       "1195      1947021204  1614305549 2019-08-14      5.5     A\n",
       "1196      3936777065  2108080724 2019-08-15   3120.1     B\n",
       "\n",
       "[1197 rows x 5 columns]"
      ]
     },
     "execution_count": 41,
     "metadata": {},
     "output_type": "execute_result"
    }
   ],
   "source": [
    "orders_us"
   ]
  },
  {
   "cell_type": "markdown",
   "id": "14c837da",
   "metadata": {},
   "source": [
    "Agora, será verificado se as diferenças observadas nas taxas de conversão entre os grupos A e B é estatisticamente significativa, tanto usando os dados brutos (sem remover outliers), quanto com os dados filtrados (após remover outliers de valor ou de número de pedidos por usuário).\n",
    "\n",
    "Primeiramente serão criadas as variáveis ordersByUsersA e ordersByUsersB com as colunas ['userId', 'orders'], nas quais a quantidade de pedidos por usuários com pelo menos um pedido será especificada."
   ]
  },
  {
   "cell_type": "code",
   "execution_count": 61,
   "id": "562374cf",
   "metadata": {},
   "outputs": [],
   "source": [
    "ordersByUsersA = orders_us[orders_us['group']=='A'].groupby('visitor_id', as_index=False).agg(\n",
    "    {'transaction_id' : pd.Series.nunique})\n",
    "ordersByUsersA.columns = ['visitor_id', 'orders']\n",
    "\n",
    "ordersByUsersB = orders_us[orders_us['group']=='B'].groupby('visitor_id', as_index=False).agg(\n",
    "    {'transaction_id' : pd.Series.nunique})\n",
    "ordersByUsersB.columns = ['visitor_id', 'orders']"
   ]
  },
  {
   "cell_type": "markdown",
   "id": "0b9bf0a4",
   "metadata": {},
   "source": [
    "Agora, serão declaradas as variáveis `sampleA` e `sampleB`, com a quatnidade de usuários que realizaram pedidos e a quantidade de pedidos correspondente. Usuários sem pedidos terão 0. "
   ]
  },
  {
   "cell_type": "code",
   "execution_count": 66,
   "id": "a620b433",
   "metadata": {},
   "outputs": [],
   "source": [
    "# cria as amostras\n",
    "sampleA = pd.concat(\n",
    "    [\n",
    "        ordersByUsersA['orders'],\n",
    "        pd.Series(\n",
    "            0,\n",
    "            index=np.arange(\n",
    "                visits_us[visits_us['group']=='A']['visits'].sum()\n",
    "                - len(ordersByUsersA['orders'])\n",
    "            ),\n",
    "            name='orders',\n",
    "        ),\n",
    "    ],\n",
    "    axis=0\n",
    ")\n",
    "\n",
    "sampleB = pd.concat(\n",
    "    [\n",
    "        ordersByUsersB['orders'],\n",
    "        pd.Series(\n",
    "            0,\n",
    "            index=np.arange(\n",
    "                visits_us[visits_us['group']=='B']['visits'].sum()\n",
    "                - len(ordersByUsersB['orders'])\n",
    "            ),\n",
    "            name='orders',\n",
    "        ),\n",
    "    ],\n",
    "    axis=0\n",
    ")\n"
   ]
  },
  {
   "cell_type": "markdown",
   "id": "0679447c",
   "metadata": {},
   "source": [
    "Por fim, será aplicado o teste Mann-Whitney para calcular a significância estatística da diferença de conversão entre os grupos usando os dados brutos."
   ]
  },
  {
   "cell_type": "code",
   "execution_count": 82,
   "id": "cf11700d",
   "metadata": {},
   "outputs": [
    {
     "name": "stdout",
     "output_type": "stream",
     "text": [
      "valor-p da diferença de conversão entre os grupos (dados brutos): 0.01679\n",
      "Diferença relativa de conversão entre os grupos (dados brutos):  0.138\n"
     ]
    }
   ],
   "source": [
    "print('valor-p da diferença de conversão entre os grupos (dados brutos):',\n",
    "       '{0:.5f}'.format(st.mannwhitneyu(sampleA, sampleB)[1]))\n",
    "print('Diferença relativa de conversão entre os grupos (dados brutos): ', \n",
    "      '{0:.3f}'.format(sampleB.mean()/sampleA.mean()-1))"
   ]
  },
  {
   "cell_type": "markdown",
   "id": "b3f9a198",
   "metadata": {},
   "source": [
    "O teste Mann-Whitney também será aplicado para calcular a significância estatística da diferença no tamanho médio do pedido entre os grupos usando os dados brutos."
   ]
  },
  {
   "cell_type": "code",
   "execution_count": 76,
   "id": "69c018b5",
   "metadata": {},
   "outputs": [
    {
     "name": "stdout",
     "output_type": "stream",
     "text": [
      "valor-p da diferença do tamanho médio do pedido entre os grupos (dados brutos):  0.692\n",
      "Diferença relativa do tamanho médio do pedido entre os grupos (dados brutos):  0.252\n"
     ]
    }
   ],
   "source": [
    "print('valor-p da diferença do tamanho médio do pedido entre os grupos (dados brutos): ', '{0:.3f}'.format(\n",
    "    st.mannwhitneyu(\n",
    "        orders_us[orders_us['group']=='A']['revenue'],\n",
    "          orders_us[orders_us['group']=='B']['revenue']\n",
    "          )[1]))\n",
    "\n",
    "print('Diferença relativa do tamanho médio do pedido entre os grupos (dados brutos): ',\n",
    "       '{0:.3f}'.format(\n",
    "           orders_us[orders_us['group']=='B']['revenue'].mean()/orders_us[orders_us['group']=='A']['revenue'].mean()-1))"
   ]
  },
  {
   "cell_type": "markdown",
   "id": "3cb12231",
   "metadata": {},
   "source": [
    "Agora vamos remover as anomalias de nossos dados para verificar se os resultados de conversão se mantêm estáveis sem os outliers; e se o tamanho médio do pedido se torna mais estável e/ou significativo.\n",
    "\n",
    "Anomalias:\n",
    "* Usuários com mais de quatro pedidos\n",
    "* Pedidos com valor superior a 500."
   ]
  },
  {
   "cell_type": "code",
   "execution_count": 78,
   "id": "3f958048",
   "metadata": {},
   "outputs": [
    {
     "name": "stdout",
     "output_type": "stream",
     "text": [
      "1099    148427295\n",
      "18      199603092\n",
      "928     204675465\n",
      "23      237748145\n",
      "684     358944393\n",
      "Name: visitor_id, dtype: int64\n"
     ]
    }
   ],
   "source": [
    "# fatia os dados para usuários com quatro ou mais pedidos\n",
    "usersWithManyOrders = pd.concat(\n",
    "    [ordersByUsersA[ordersByUsersA['orders'] >= 4]['visitor_id'],\n",
    "    ordersByUsersB[ordersByUsersB['orders'] >= 4]['visitor_id']\n",
    "    ],\n",
    "    axis = 0\n",
    ")\n",
    "\n",
    "# fatia os dados para usuários com pedidos com valores superiores a 500\n",
    "usersWithExpensiveOrders = orders_us[orders_us['revenue'] > 500]['visitor_id']\n",
    "\n",
    "# junta as fatias em uma tabela de usuários anômalos\n",
    "abnormalUsers = pd.concat(\n",
    "    [usersWithManyOrders,\n",
    "    usersWithExpensiveOrders],\n",
    "    axis = 0).drop_duplicates().sort_values()\n",
    "\n",
    "print(abnormalUsers.head(5))"
   ]
  },
  {
   "cell_type": "markdown",
   "id": "6350d692",
   "metadata": {},
   "source": [
    "Agora serão removidos os visitantes anômalos para calcular a significância estatística da diferença de conversão. Serão criadas as variáveis `sampleAFiltered` e `sampleBFiltered` para armazenar os dados após as anomalias terem sido removidas pela filtragem."
   ]
  },
  {
   "cell_type": "code",
   "execution_count": null,
   "id": "5882e123",
   "metadata": {},
   "outputs": [],
   "source": [
    "sampleAFiltered = pd.concat(\n",
    "    [ordersByUsersA[\n",
    "        np.logical_not(ordersByUsersA['visitor_id'].isin(abnormalUsers))\n",
    "        ]\n",
    "        ['orders'],pd.Series(\n",
    "            0,\n",
    "            index=np.arange(\n",
    "                visits_us[visits_us['group']=='A']['visits'].sum()\n",
    "                - len(ordersByUsersA['orders'])\n",
    "            ),\n",
    "            name='orders'\n",
    "        )\n",
    "    ],\n",
    "    axis=0\n",
    ")\n",
    "\n",
    "sampleBFiltered = pd.concat(\n",
    "    [ordersByUsersB[\n",
    "        np.logical_not(ordersByUsersB['visitor_id'].isin(abnormalUsers))\n",
    "        ]\n",
    "        ['orders'],pd.Series(\n",
    "            0,\n",
    "            index=np.arange(\n",
    "                visits_us[visits_us['group']=='B']['visits'].sum()\n",
    "                - len(ordersByUsersB['orders'])\n",
    "            ),\n",
    "            name='orders'\n",
    "        )\n",
    "    ],\n",
    "    axis=0\n",
    ")\n"
   ]
  },
  {
   "cell_type": "code",
   "execution_count": 86,
   "id": "6e19e2ed",
   "metadata": {},
   "outputs": [
    {
     "name": "stdout",
     "output_type": "stream",
     "text": [
      "valor-p da diferença de conversão entre os grupos (dados filtrados): 0.01465\n",
      "Diferença relativa de conversão entre os grupos (dados filtrados):  0.154\n",
      "\n",
      "valor-p da diferença do tamanho médio do pedido entre os grupos (dados filtrados):  0.692\n",
      "Diferença relativa do tamanho médio do pedido entre os grupos (dados filtrados):  0.013\n"
     ]
    }
   ],
   "source": [
    "print('valor-p da diferença de conversão entre os grupos (dados filtrados):',\n",
    "       '{0:.5f}'.format(st.mannwhitneyu(sampleAFiltered, sampleBFiltered)[1]))\n",
    "print('Diferença relativa de conversão entre os grupos (dados filtrados): ',\n",
    "       '{0:.3f}'.format(sampleBFiltered.mean()/sampleAFiltered.mean()-1))\n",
    "\n",
    "print()\n",
    "\n",
    "print('valor-p da diferença do tamanho médio do pedido entre os grupos (dados filtrados): ', '{0:.3f}'.format(\n",
    "    st.mannwhitneyu(\n",
    "        orders_us[orders_us['group']=='A']['revenue'],\n",
    "          orders_us[orders_us['group']=='B']['revenue']\n",
    "          )[1]))\n",
    "\n",
    "print('Diferença relativa do tamanho médio do pedido entre os grupos (dados filtrados): ',\n",
    "       '{0:.3f}'.format(orders_us[np.logical_and(\n",
    "           orders_us['group']=='B',\n",
    "           np.logical_not(orders_us['visitor_id'].isin(abnormalUsers)))\n",
    "           ]['revenue'].mean() /\n",
    "           orders_us[np.logical_and(\n",
    "               orders_us['group']=='A',\n",
    "               np.logical_not(orders_us['visitor_id'].isin(abnormalUsers)))\n",
    "               ]['revenue'].mean() - 1))"
   ]
  },
  {
   "cell_type": "markdown",
   "id": "3530eec5",
   "metadata": {},
   "source": [
    "Ao analisarmos os dados brutos, concluimos que:\n",
    "* O valor-p é 0.01679, ou seja, é menor que 0.05, então rejeitamos a hipótese nula de que não há diferença nas taxas de conversão.\n",
    "* A diferença relativa de conversão é de 0.138, o que indica que o grupo B teve 13,8% mais conversões que o grupo A ao longo do período do teste.\n",
    "* O valor-p é 0.692 consideravelmente maior que 0.05, então não há motivo para rejeitar a hipótese nula e concluir que o tamanho médio do pedido seria diferente entre os grupos.\n",
    "* A diferença relativa é de 0.252, o que indica que o grupo B teve, em média, pedidos 25,2% maiores que o grupo A. \n",
    "\n",
    "\n",
    "\n",
    "Ao analisarmos os dados filtrados, concluimos que:\n",
    "* O valor-p da diferença de conversão entre os grupos continua sendo menor que 0.05, então rejeitamos a hipótese nula de que não há diferença nas taxas de conversão.\n",
    "* A diferença relativa de conversão é de 0.154, o que indica que o grupo B teve 15,4% mais conversões que o grupo A ao longo do período do teste.\n",
    "\n",
    "* O valor-p da diferença no tamanho médio do pedido continuou acima de 0.05 (0.692), o que reforça que não há diferença estatisticamente significativa entre os grupos para essa métrica.\n",
    "* A diferença relativa no tamanho médio foi de apenas +1,3%, o que representa uma variação pequena e, nesse contexto, irrelevante do ponto de vista estatístico e prático."
   ]
  },
  {
   "cell_type": "markdown",
   "id": "b7e54b84",
   "metadata": {},
   "source": [
    "### Conclusões do teste A/B"
   ]
  },
  {
   "cell_type": "markdown",
   "id": "e7b80769",
   "metadata": {},
   "source": [
    "O experimento A/B demonstra que a variante testada no grupo B aumentou significativamente a taxa de conversão, tanto com os dados brutos quanto com os dados filtrados.\n",
    "\n",
    "Embora o grupo B também tenha apresentado valores mais altos no tamanho médio dos pedidos, essa diferença não é estatisticamente significativa."
   ]
  },
  {
   "cell_type": "markdown",
   "id": "666fa10d",
   "metadata": {},
   "source": [
    "Com base nas análises realizadas tanto com os dados brutos quanto com os dados filtrados, a decisão mais apropriada é: 1. Pare o teste e considere o grupo B como líder.\n",
    "\n",
    "**Justificativa:**\n",
    "O grupo B teve uma melhora estatisticamente significativa na taxa de conversão:\n",
    "* +13,8% com dados brutos (valor-p = 0.01679)\n",
    "* +15,4% com dados filtrados (valor-p = 0.01465)\n",
    "A diferença permanece significativa mesmo após remover outliers, o que indica robustez dos resultados.\n",
    "\n",
    "Além disso, o tamanho médio do pedido (AOV) apresenta uma diferença que não é estatisticamente significativa em nenhum cenário:\n",
    "* Diferença de +25,2% com dados brutos (valor-p = 0.692)\n",
    "* Diferença de +1,3% com dados filtrados (valor-p = 0.692)\n",
    "Portanto, não há impacto negativo conhecido no valor médio dos pedidos.\n",
    "\n",
    "Ou seja: \n",
    "* a variante testada no grupo B aumenta a conversão de forma consistente e estatisticamente comprovada;\n",
    "* não há efeitos colaterais evidentes em outras métricas analisadas;\n",
    "* continuar o teste teria custo adicional, mas benefício limitado, pois o padrão já se consolidou.\n",
    "\n",
    "Então, o melhor curso de ação é encerrar o experimento e adotar a variante do grupo B como a nova versão padrão."
   ]
  }
 ],
 "metadata": {
  "kernelspec": {
   "display_name": "Python 3",
   "language": "python",
   "name": "python3"
  },
  "language_info": {
   "codemirror_mode": {
    "name": "ipython",
    "version": 3
   },
   "file_extension": ".py",
   "mimetype": "text/x-python",
   "name": "python",
   "nbconvert_exporter": "python",
   "pygments_lexer": "ipython3",
   "version": "3.12.10"
  }
 },
 "nbformat": 4,
 "nbformat_minor": 5
}
